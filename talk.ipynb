{
 "cells": [
  {
   "cell_type": "code",
   "execution_count": 2,
   "metadata": {
    "collapsed": false
   },
   "outputs": [],
   "source": [
    "%matplotlib inline\n",
    "import numpy as np\n",
    "import pandas as pd\n",
    "import matplotlib.pyplot as plt\n",
    "from datetime import time\n",
    "pd.set_option('html', False)"
   ]
  },
  {
   "cell_type": "markdown",
   "metadata": {},
   "source": [
    "Introduction to Pandas\n",
    "==="
   ]
  },
  {
   "cell_type": "markdown",
   "metadata": {},
   "source": [
    "Data Structures\n",
    "---"
   ]
  },
  {
   "cell_type": "markdown",
   "metadata": {},
   "source": [
    "###Series\n",
    "A Series is a one-dimensional object similar to an array, list, or column in a table. It will assign a labeled index to each item in the Series. By default, each item will receive an index label from 0 to N, where N is the length of the Series minus one."
   ]
  },
  {
   "cell_type": "code",
   "execution_count": 3,
   "metadata": {
    "collapsed": false
   },
   "outputs": [
    {
     "data": {
      "text/plain": [
       "0                7\n",
       "1       Heisenberg\n",
       "2             3.14\n",
       "3      -1789710578\n",
       "4    Happy Eating!\n",
       "dtype: object"
      ]
     },
     "execution_count": 3,
     "metadata": {},
     "output_type": "execute_result"
    }
   ],
   "source": [
    "s = pd.Series([7, 'Heisenberg', 3.14, -1789710578, 'Happy Eating!'])\n",
    "s"
   ]
  },
  {
   "cell_type": "markdown",
   "metadata": {},
   "source": [
    "Alternatively, you can specify an index to use when creating the Series."
   ]
  },
  {
   "cell_type": "code",
   "execution_count": 4,
   "metadata": {
    "collapsed": false
   },
   "outputs": [
    {
     "data": {
      "text/plain": [
       "A                7\n",
       "Z       Heisenberg\n",
       "C             3.14\n",
       "Y      -1789710578\n",
       "E    Happy Eating!\n",
       "dtype: object"
      ]
     },
     "execution_count": 4,
     "metadata": {},
     "output_type": "execute_result"
    }
   ],
   "source": [
    "s = pd.Series([7, 'Heisenberg', 3.14, -1789710578, 'Happy Eating!'],\n",
    "              index=['A', 'Z', 'C', 'Y', 'E'])\n",
    "s"
   ]
  },
  {
   "cell_type": "markdown",
   "metadata": {},
   "source": [
    "The Series constructor can convert a dictonary as well, using the keys of the dictionary as its index."
   ]
  },
  {
   "cell_type": "code",
   "execution_count": 5,
   "metadata": {
    "collapsed": false
   },
   "outputs": [
    {
     "data": {
      "text/plain": [
       "Austin            450\n",
       "Boston            NaN\n",
       "Chicago          1000\n",
       "New York         1300\n",
       "Portland          900\n",
       "San Francisco    1100\n",
       "dtype: float64"
      ]
     },
     "execution_count": 5,
     "metadata": {},
     "output_type": "execute_result"
    }
   ],
   "source": [
    "d = {'Chicago': 1000, 'New York': 1300, 'Portland': 900, 'San Francisco': 1100,\n",
    "     'Austin': 450, 'Boston': None}\n",
    "cities = pd.Series(d)\n",
    "cities"
   ]
  },
  {
   "cell_type": "markdown",
   "metadata": {},
   "source": [
    "You can use the index (or list of indices) to select specific items from the Series"
   ]
  },
  {
   "cell_type": "code",
   "execution_count": 6,
   "metadata": {
    "collapsed": false
   },
   "outputs": [
    {
     "data": {
      "text/plain": [
       "1000.0"
      ]
     },
     "execution_count": 6,
     "metadata": {},
     "output_type": "execute_result"
    }
   ],
   "source": [
    "cities['Chicago']\n"
   ]
  },
  {
   "cell_type": "code",
   "execution_count": 7,
   "metadata": {
    "collapsed": false
   },
   "outputs": [
    {
     "data": {
      "text/plain": [
       "Chicago          1000\n",
       "Portland          900\n",
       "San Francisco    1100\n",
       "dtype: float64"
      ]
     },
     "execution_count": 7,
     "metadata": {},
     "output_type": "execute_result"
    }
   ],
   "source": [
    "cities[['Chicago', 'Portland', 'San Francisco']]"
   ]
  },
  {
   "cell_type": "markdown",
   "metadata": {},
   "source": [
    "Or you can use boolean indexing for selection."
   ]
  },
  {
   "cell_type": "code",
   "execution_count": 8,
   "metadata": {
    "collapsed": false
   },
   "outputs": [
    {
     "data": {
      "text/plain": [
       "Austin      450\n",
       "Portland    900\n",
       "dtype: float64"
      ]
     },
     "execution_count": 8,
     "metadata": {},
     "output_type": "execute_result"
    }
   ],
   "source": [
    "cities[cities < 1000]\n"
   ]
  },
  {
   "cell_type": "markdown",
   "metadata": {},
   "source": [
    "Mathematical operations can be done using scalars and functions."
   ]
  },
  {
   "cell_type": "code",
   "execution_count": 9,
   "metadata": {
    "collapsed": false
   },
   "outputs": [
    {
     "data": {
      "text/plain": [
       "Austin            202500\n",
       "Boston               NaN\n",
       "Chicago          1000000\n",
       "New York         1690000\n",
       "Portland          810000\n",
       "San Francisco    1210000\n",
       "dtype: float64"
      ]
     },
     "execution_count": 9,
     "metadata": {},
     "output_type": "execute_result"
    }
   ],
   "source": [
    "cities ** 2"
   ]
  },
  {
   "cell_type": "code",
   "execution_count": 10,
   "metadata": {
    "collapsed": false
   },
   "outputs": [
    {
     "data": {
      "text/plain": [
       "Austin           6.109248\n",
       "Boston                NaN\n",
       "Chicago          6.907755\n",
       "New York         7.170120\n",
       "Portland         6.802395\n",
       "San Francisco    7.003065\n",
       "dtype: float64"
      ]
     },
     "execution_count": 10,
     "metadata": {},
     "output_type": "execute_result"
    }
   ],
   "source": [
    "np.log(cities)"
   ]
  },
  {
   "cell_type": "markdown",
   "metadata": {},
   "source": [
    "###DataFrame"
   ]
  },
  {
   "cell_type": "markdown",
   "metadata": {},
   "source": [
    "A DataFrame is a tablular data structure comprised of rows and columns, akin to a spreadsheet, database table, or R's data.frame object. You can also think of a DataFrame as a group of Series objects that share an index (the column names)."
   ]
  },
  {
   "cell_type": "code",
   "execution_count": 11,
   "metadata": {
    "collapsed": false
   },
   "outputs": [
    {
     "name": "stdout",
     "output_type": "stream",
     "text": [
      "   year       team  wins  losses\n",
      "0  2010  Liverpool    11       5\n",
      "1  2011  Liverpool     8       8\n",
      "2  2012  Liverpool    10       6\n",
      "3  2011    Chelsea    15       1\n",
      "4  2012    Chelsea    11       5\n",
      "5  2010    Everton     6      10\n",
      "6  2011    Everton    10       6\n",
      "7  2012    Everton     4      12\n"
     ]
    }
   ],
   "source": [
    "data = {'year': [2010, 2011, 2012, 2011, 2012, 2010, 2011, 2012],\n",
    "        'team': ['Liverpool', 'Liverpool', 'Liverpool', 'Chelsea', 'Chelsea', 'Everton', 'Everton', 'Everton'],\n",
    "        'wins': [11, 8, 10, 15, 11, 6, 10, 4],\n",
    "        'losses': [5, 8, 6, 1, 5, 10, 6, 12]}\n",
    "football = pd.DataFrame(data, columns=['year', 'team', 'wins', 'losses'])\n",
    "print football"
   ]
  },
  {
   "cell_type": "markdown",
   "metadata": {},
   "source": [
    "A new column can be added to the dataframe with the use of a series object, the length of the series doesn't have to match that of the dataframe"
   ]
  },
  {
   "cell_type": "code",
   "execution_count": 12,
   "metadata": {
    "collapsed": false
   },
   "outputs": [
    {
     "data": {
      "text/plain": [
       "   year       team  wins  losses month\n",
       "0  2010  Liverpool    11       5   Jan\n",
       "1  2011  Liverpool     8       8   Feb\n",
       "2  2012  Liverpool    10       6   Mar\n",
       "3  2011    Chelsea    15       1   Apr\n",
       "4  2012    Chelsea    11       5   Jan\n",
       "5  2010    Everton     6      10   Feb\n",
       "6  2011    Everton    10       6   Mar\n",
       "7  2012    Everton     4      12   Apr"
      ]
     },
     "execution_count": 12,
     "metadata": {},
     "output_type": "execute_result"
    }
   ],
   "source": [
    "month = pd.Series(['Jan', 'Feb', 'Mar', 'Apr']*2)\n",
    "football['month'] = month\n",
    "football"
   ]
  },
  {
   "cell_type": "markdown",
   "metadata": {},
   "source": [
    "However, when using other forms of data structures, such as arrays or lists, the length has to match the number of columns."
   ]
  },
  {
   "cell_type": "code",
   "execution_count": 13,
   "metadata": {
    "collapsed": false
   },
   "outputs": [
    {
     "ename": "ValueError",
     "evalue": "Length of values does not match length of index",
     "output_type": "error",
     "traceback": [
      "\u001b[0;31m---------------------------------------------------------------------------\u001b[0m",
      "\u001b[0;31mValueError\u001b[0m                                Traceback (most recent call last)",
      "\u001b[0;32m<ipython-input-13-84477b5f99a5>\u001b[0m in \u001b[0;36m<module>\u001b[0;34m()\u001b[0m\n\u001b[1;32m      1\u001b[0m \u001b[0mtime_of_day\u001b[0m \u001b[0;34m=\u001b[0m \u001b[0;34m[\u001b[0m\u001b[0;34m'AM'\u001b[0m\u001b[0;34m,\u001b[0m \u001b[0;34m'PM'\u001b[0m\u001b[0;34m]\u001b[0m\u001b[0;34m\u001b[0m\u001b[0m\n\u001b[0;32m----> 2\u001b[0;31m \u001b[0mfootball\u001b[0m\u001b[0;34m[\u001b[0m\u001b[0;34m'time'\u001b[0m\u001b[0;34m]\u001b[0m \u001b[0;34m=\u001b[0m \u001b[0mtime_of_day\u001b[0m\u001b[0;34m\u001b[0m\u001b[0m\n\u001b[0m",
      "\u001b[0;32m/opt/local/Library/Frameworks/Python.framework/Versions/2.7/lib/python2.7/site-packages/pandas/core/frame.pyc\u001b[0m in \u001b[0;36m__setitem__\u001b[0;34m(self, key, value)\u001b[0m\n\u001b[1;32m   2115\u001b[0m         \u001b[0;32melse\u001b[0m\u001b[0;34m:\u001b[0m\u001b[0;34m\u001b[0m\u001b[0m\n\u001b[1;32m   2116\u001b[0m             \u001b[0;31m# set column\u001b[0m\u001b[0;34m\u001b[0m\u001b[0;34m\u001b[0m\u001b[0m\n\u001b[0;32m-> 2117\u001b[0;31m             \u001b[0mself\u001b[0m\u001b[0;34m.\u001b[0m\u001b[0m_set_item\u001b[0m\u001b[0;34m(\u001b[0m\u001b[0mkey\u001b[0m\u001b[0;34m,\u001b[0m \u001b[0mvalue\u001b[0m\u001b[0;34m)\u001b[0m\u001b[0;34m\u001b[0m\u001b[0m\n\u001b[0m\u001b[1;32m   2118\u001b[0m \u001b[0;34m\u001b[0m\u001b[0m\n\u001b[1;32m   2119\u001b[0m     \u001b[0;32mdef\u001b[0m \u001b[0m_setitem_slice\u001b[0m\u001b[0;34m(\u001b[0m\u001b[0mself\u001b[0m\u001b[0;34m,\u001b[0m \u001b[0mkey\u001b[0m\u001b[0;34m,\u001b[0m \u001b[0mvalue\u001b[0m\u001b[0;34m)\u001b[0m\u001b[0;34m:\u001b[0m\u001b[0;34m\u001b[0m\u001b[0m\n",
      "\u001b[0;32m/opt/local/Library/Frameworks/Python.framework/Versions/2.7/lib/python2.7/site-packages/pandas/core/frame.pyc\u001b[0m in \u001b[0;36m_set_item\u001b[0;34m(self, key, value)\u001b[0m\n\u001b[1;32m   2192\u001b[0m \u001b[0;34m\u001b[0m\u001b[0m\n\u001b[1;32m   2193\u001b[0m         \u001b[0mself\u001b[0m\u001b[0;34m.\u001b[0m\u001b[0m_ensure_valid_index\u001b[0m\u001b[0;34m(\u001b[0m\u001b[0mvalue\u001b[0m\u001b[0;34m)\u001b[0m\u001b[0;34m\u001b[0m\u001b[0m\n\u001b[0;32m-> 2194\u001b[0;31m         \u001b[0mvalue\u001b[0m \u001b[0;34m=\u001b[0m \u001b[0mself\u001b[0m\u001b[0;34m.\u001b[0m\u001b[0m_sanitize_column\u001b[0m\u001b[0;34m(\u001b[0m\u001b[0mkey\u001b[0m\u001b[0;34m,\u001b[0m \u001b[0mvalue\u001b[0m\u001b[0;34m)\u001b[0m\u001b[0;34m\u001b[0m\u001b[0m\n\u001b[0m\u001b[1;32m   2195\u001b[0m         \u001b[0mNDFrame\u001b[0m\u001b[0;34m.\u001b[0m\u001b[0m_set_item\u001b[0m\u001b[0;34m(\u001b[0m\u001b[0mself\u001b[0m\u001b[0;34m,\u001b[0m \u001b[0mkey\u001b[0m\u001b[0;34m,\u001b[0m \u001b[0mvalue\u001b[0m\u001b[0;34m)\u001b[0m\u001b[0;34m\u001b[0m\u001b[0m\n\u001b[1;32m   2196\u001b[0m \u001b[0;34m\u001b[0m\u001b[0m\n",
      "\u001b[0;32m/opt/local/Library/Frameworks/Python.framework/Versions/2.7/lib/python2.7/site-packages/pandas/core/frame.pyc\u001b[0m in \u001b[0;36m_sanitize_column\u001b[0;34m(self, key, value)\u001b[0m\n\u001b[1;32m   2349\u001b[0m \u001b[0;34m\u001b[0m\u001b[0m\n\u001b[1;32m   2350\u001b[0m             \u001b[0;31m# turn me into an ndarray\u001b[0m\u001b[0;34m\u001b[0m\u001b[0;34m\u001b[0m\u001b[0m\n\u001b[0;32m-> 2351\u001b[0;31m             \u001b[0mvalue\u001b[0m \u001b[0;34m=\u001b[0m \u001b[0m_sanitize_index\u001b[0m\u001b[0;34m(\u001b[0m\u001b[0mvalue\u001b[0m\u001b[0;34m,\u001b[0m \u001b[0mself\u001b[0m\u001b[0;34m.\u001b[0m\u001b[0mindex\u001b[0m\u001b[0;34m,\u001b[0m \u001b[0mcopy\u001b[0m\u001b[0;34m=\u001b[0m\u001b[0mFalse\u001b[0m\u001b[0;34m)\u001b[0m\u001b[0;34m\u001b[0m\u001b[0m\n\u001b[0m\u001b[1;32m   2352\u001b[0m             \u001b[0;32mif\u001b[0m \u001b[0;32mnot\u001b[0m \u001b[0misinstance\u001b[0m\u001b[0;34m(\u001b[0m\u001b[0mvalue\u001b[0m\u001b[0;34m,\u001b[0m \u001b[0;34m(\u001b[0m\u001b[0mnp\u001b[0m\u001b[0;34m.\u001b[0m\u001b[0mndarray\u001b[0m\u001b[0;34m,\u001b[0m \u001b[0mIndex\u001b[0m\u001b[0;34m)\u001b[0m\u001b[0;34m)\u001b[0m\u001b[0;34m:\u001b[0m\u001b[0;34m\u001b[0m\u001b[0m\n\u001b[1;32m   2353\u001b[0m                 \u001b[0;32mif\u001b[0m \u001b[0misinstance\u001b[0m\u001b[0;34m(\u001b[0m\u001b[0mvalue\u001b[0m\u001b[0;34m,\u001b[0m \u001b[0mlist\u001b[0m\u001b[0;34m)\u001b[0m \u001b[0;32mand\u001b[0m \u001b[0mlen\u001b[0m\u001b[0;34m(\u001b[0m\u001b[0mvalue\u001b[0m\u001b[0;34m)\u001b[0m \u001b[0;34m>\u001b[0m \u001b[0;36m0\u001b[0m\u001b[0;34m:\u001b[0m\u001b[0;34m\u001b[0m\u001b[0m\n",
      "\u001b[0;32m/opt/local/Library/Frameworks/Python.framework/Versions/2.7/lib/python2.7/site-packages/pandas/core/series.pyc\u001b[0m in \u001b[0;36m_sanitize_index\u001b[0;34m(data, index, copy)\u001b[0m\n\u001b[1;32m   2553\u001b[0m \u001b[0;34m\u001b[0m\u001b[0m\n\u001b[1;32m   2554\u001b[0m     \u001b[0;32mif\u001b[0m \u001b[0mlen\u001b[0m\u001b[0;34m(\u001b[0m\u001b[0mdata\u001b[0m\u001b[0;34m)\u001b[0m \u001b[0;34m!=\u001b[0m \u001b[0mlen\u001b[0m\u001b[0;34m(\u001b[0m\u001b[0mindex\u001b[0m\u001b[0;34m)\u001b[0m\u001b[0;34m:\u001b[0m\u001b[0;34m\u001b[0m\u001b[0m\n\u001b[0;32m-> 2555\u001b[0;31m         raise ValueError('Length of values does not match length of '\n\u001b[0m\u001b[1;32m   2556\u001b[0m                          'index')\n\u001b[1;32m   2557\u001b[0m \u001b[0;34m\u001b[0m\u001b[0m\n",
      "\u001b[0;31mValueError\u001b[0m: Length of values does not match length of index"
     ]
    }
   ],
   "source": [
    "time_of_day = ['AM', 'PM']\n",
    "football['time'] = time_of_day"
   ]
  },
  {
   "cell_type": "markdown",
   "metadata": {},
   "source": [
    "The different columns of the dataframe can be accessed using the column names either like a dictionary or as a varible within the dataframe"
   ]
  },
  {
   "cell_type": "code",
   "execution_count": null,
   "metadata": {
    "collapsed": false
   },
   "outputs": [],
   "source": [
    "football['team']"
   ]
  },
  {
   "cell_type": "markdown",
   "metadata": {},
   "source": [
    "The individual rows can be gotten by accessing the index variable 'ix' with the index of the row"
   ]
  },
  {
   "cell_type": "code",
   "execution_count": 14,
   "metadata": {
    "collapsed": false
   },
   "outputs": [
    {
     "data": {
      "text/plain": [
       "year           2010\n",
       "team      Liverpool\n",
       "wins             11\n",
       "losses            5\n",
       "month           Jan\n",
       "Name: 0, dtype: object"
      ]
     },
     "execution_count": 14,
     "metadata": {},
     "output_type": "execute_result"
    }
   ],
   "source": [
    "football.ix[0]"
   ]
  },
  {
   "cell_type": "markdown",
   "metadata": {},
   "source": [
    "Reading from File\n",
    "---"
   ]
  },
  {
   "cell_type": "code",
   "execution_count": 2,
   "metadata": {
    "collapsed": false
   },
   "outputs": [
    {
     "name": "stdout",
     "output_type": "stream",
     "text": [
      "    3949 AAPL.csv\r\n"
     ]
    }
   ],
   "source": [
    "temp = '%s.csv'\n",
    "path = temp % 'AAPL'\n",
    "!wc -l $path"
   ]
  },
  {
   "cell_type": "code",
   "execution_count": 3,
   "metadata": {
    "collapsed": false
   },
   "outputs": [
    {
     "data": {
      "text/plain": [
       "                    dt  open_price    high     low  close_price   volume\n",
       "0  2015-02-05 14:30:00      120.02  120.10  119.85       120.07   577941\n",
       "1  2015-02-05 14:35:00      120.08  120.11  119.52       119.84  1920261\n",
       "2  2015-02-05 14:40:00      119.85  120.04  119.74       119.97  1028291\n",
       "3  2015-02-05 14:45:00      119.96  120.09  119.85       119.98  1060368\n",
       "4  2015-02-05 14:50:00      119.99  120.16  119.97       120.08   878099"
      ]
     },
     "execution_count": 3,
     "metadata": {},
     "output_type": "execute_result"
    }
   ],
   "source": [
    "aapl_bars = pd.read_csv(temp % 'AAPL')\n",
    "aapl_bars.head()"
   ]
  },
  {
   "cell_type": "markdown",
   "metadata": {},
   "source": [
    "Time series operations\n",
    "---"
   ]
  },
  {
   "cell_type": "code",
   "execution_count": 4,
   "metadata": {
    "collapsed": false
   },
   "outputs": [
    {
     "data": {
      "text/plain": [
       "0       2015-02-05 14:30:00\n",
       "1       2015-02-05 14:35:00\n",
       "2       2015-02-05 14:40:00\n",
       "3       2015-02-05 14:45:00\n",
       "4       2015-02-05 14:50:00\n",
       "5       2015-02-05 14:55:00\n",
       "6       2015-02-05 15:00:00\n",
       "7       2015-02-05 15:05:00\n",
       "8       2015-02-05 15:10:00\n",
       "9       2015-02-05 15:15:00\n",
       "10      2015-02-05 15:20:00\n",
       "11      2015-02-05 15:25:00\n",
       "12      2015-02-05 15:30:00\n",
       "13      2015-02-05 15:35:00\n",
       "14      2015-02-05 15:40:00\n",
       "15      2015-02-05 15:45:00\n",
       "16      2015-02-05 15:50:00\n",
       "17      2015-02-05 15:55:00\n",
       "18      2015-02-05 16:00:00\n",
       "19      2015-02-05 16:05:00\n",
       "20      2015-02-05 16:10:00\n",
       "21      2015-02-05 16:15:00\n",
       "22      2015-02-05 16:20:00\n",
       "23      2015-02-05 16:25:00\n",
       "24      2015-02-05 16:30:00\n",
       "25      2015-02-05 16:35:00\n",
       "26      2015-02-05 16:40:00\n",
       "27      2015-02-05 16:45:00\n",
       "28      2015-02-05 16:50:00\n",
       "29      2015-02-05 16:55:00\n",
       "               ...         \n",
       "3917    2015-04-17 18:35:00\n",
       "3918    2015-04-17 18:40:00\n",
       "3919    2015-04-17 18:45:00\n",
       "3920    2015-04-17 18:50:00\n",
       "3921    2015-04-17 18:55:00\n",
       "3922    2015-04-17 19:00:00\n",
       "3923    2015-04-17 19:05:00\n",
       "3924    2015-04-17 19:10:00\n",
       "3925    2015-04-17 19:15:00\n",
       "3926    2015-04-17 19:20:00\n",
       "3927    2015-04-17 19:25:00\n",
       "3928    2015-04-17 19:30:00\n",
       "3929    2015-04-17 19:35:00\n",
       "3930    2015-04-17 19:40:00\n",
       "3931    2015-04-17 19:45:00\n",
       "3932    2015-04-17 19:50:00\n",
       "3933    2015-04-17 19:55:00\n",
       "3934    2015-04-17 20:00:00\n",
       "3935    2015-04-17 20:05:00\n",
       "3936    2015-04-17 20:10:00\n",
       "3937    2015-04-17 20:15:00\n",
       "3938    2015-04-17 20:20:00\n",
       "3939    2015-04-17 20:25:00\n",
       "3940    2015-04-17 20:30:00\n",
       "3941    2015-04-17 20:35:00\n",
       "3942    2015-04-17 20:40:00\n",
       "3943    2015-04-17 20:45:00\n",
       "3944    2015-04-17 20:50:00\n",
       "3945    2015-04-17 20:55:00\n",
       "3946    2015-04-17 21:00:00\n",
       "Name: dt, dtype: object"
      ]
     },
     "execution_count": 4,
     "metadata": {},
     "output_type": "execute_result"
    }
   ],
   "source": [
    "aapl_bars.dt"
   ]
  },
  {
   "cell_type": "code",
   "execution_count": 5,
   "metadata": {
    "collapsed": false
   },
   "outputs": [],
   "source": [
    "aapl_bars.index = pd.to_datetime(aapl_bars.pop('dt'))"
   ]
  },
  {
   "cell_type": "code",
   "execution_count": 6,
   "metadata": {
    "collapsed": false
   },
   "outputs": [
    {
     "data": {
      "text/plain": [
       "                     open_price    high     low  close_price   volume\n",
       "dt                                                                   \n",
       "2015-02-05 14:30:00      120.02  120.10  119.85       120.07   577941\n",
       "2015-02-05 14:35:00      120.08  120.11  119.52       119.84  1920261\n",
       "2015-02-05 14:40:00      119.85  120.04  119.74       119.97  1028291\n",
       "2015-02-05 14:45:00      119.96  120.09  119.85       119.98  1060368\n",
       "2015-02-05 14:50:00      119.99  120.16  119.97       120.08   878099"
      ]
     },
     "execution_count": 6,
     "metadata": {},
     "output_type": "execute_result"
    }
   ],
   "source": [
    "aapl_bars.head()"
   ]
  },
  {
   "cell_type": "code",
   "execution_count": 7,
   "metadata": {
    "collapsed": false
   },
   "outputs": [],
   "source": [
    "def load_bars(ticker):\n",
    "    bars = pd.read_csv(temp % ticker)\n",
    "    bars.index = pd.to_datetime(bars.pop('dt'))\n",
    "    return bars"
   ]
  },
  {
   "cell_type": "code",
   "execution_count": 8,
   "metadata": {
    "collapsed": false
   },
   "outputs": [
    {
     "data": {
      "text/plain": [
       "                     open_price    high     low  close_price   volume\n",
       "dt                                                                   \n",
       "2015-02-05 14:30:00      120.02  120.10  119.85       120.07   577941\n",
       "2015-02-06 14:30:00      120.02  120.16  120.02       120.05   578055\n",
       "2015-02-09 14:30:00      118.55  118.58  118.43       118.58   318712\n",
       "2015-02-10 14:30:00      120.17  120.31  120.16       120.30   646886\n",
       "2015-02-11 14:30:00      122.77  122.90  122.58       122.81   624106\n",
       "2015-02-12 14:30:00      126.06  126.15  125.89       125.90  1333210\n",
       "2015-02-13 14:30:00      127.28  127.28  127.15       127.25   933002\n",
       "2015-02-17 14:30:00      127.49  127.49  127.40       127.46   797492\n",
       "2015-02-18 14:30:00      127.62  127.80  127.45       127.66   465408\n",
       "2015-02-19 14:30:00      128.48  128.48  128.41       128.41   335266"
      ]
     },
     "execution_count": 8,
     "metadata": {},
     "output_type": "execute_result"
    }
   ],
   "source": [
    "aapl_bars.at_time(time(14, 30)).head(10)"
   ]
  },
  {
   "cell_type": "code",
   "execution_count": 9,
   "metadata": {
    "collapsed": false
   },
   "outputs": [
    {
     "data": {
      "text/plain": [
       "dt\n",
       "2015-03-19 13:30:00    128.78\n",
       "2015-03-19 13:35:00    129.13\n",
       "2015-03-19 13:40:00    128.97\n",
       "2015-03-19 13:45:00    128.73\n",
       "2015-03-19 13:50:00    128.63\n",
       "2015-03-19 13:55:00    128.60\n",
       "2015-03-19 14:00:00    128.53\n",
       "2015-03-19 14:05:00    128.46\n",
       "2015-03-19 14:10:00    128.13\n",
       "2015-03-19 14:15:00    128.45\n",
       "2015-03-19 14:20:00    128.47\n",
       "2015-03-19 14:25:00    128.42\n",
       "2015-03-19 14:30:00    128.27\n",
       "2015-03-19 14:35:00    128.29\n",
       "2015-03-19 14:40:00    128.30\n",
       "2015-03-19 14:45:00    128.33\n",
       "2015-03-19 14:50:00    128.16\n",
       "2015-03-19 14:55:00    128.19\n",
       "2015-03-19 15:00:00    128.36\n",
       "2015-03-19 15:05:00    128.41\n",
       "2015-03-19 15:10:00    128.15\n",
       "2015-03-19 15:15:00    128.11\n",
       "2015-03-19 15:20:00    128.09\n",
       "2015-03-19 15:25:00    128.02\n",
       "2015-03-19 15:30:00    128.06\n",
       "2015-03-19 15:35:00    127.86\n",
       "2015-03-19 15:40:00    127.98\n",
       "2015-03-19 15:45:00    128.04\n",
       "2015-03-19 15:50:00    128.09\n",
       "2015-03-19 15:55:00    128.08\n",
       "                        ...  \n",
       "2015-03-19 17:35:00    128.15\n",
       "2015-03-19 17:40:00    127.89\n",
       "2015-03-19 17:45:00    127.90\n",
       "2015-03-19 17:50:00    127.91\n",
       "2015-03-19 17:55:00    127.80\n",
       "2015-03-19 18:00:00    127.69\n",
       "2015-03-19 18:05:00    127.78\n",
       "2015-03-19 18:10:00    127.91\n",
       "2015-03-19 18:15:00    127.88\n",
       "2015-03-19 18:20:00    127.89\n",
       "2015-03-19 18:25:00    127.84\n",
       "2015-03-19 18:30:00    127.87\n",
       "2015-03-19 18:35:00    127.93\n",
       "2015-03-19 18:40:00    128.03\n",
       "2015-03-19 18:45:00    128.04\n",
       "2015-03-19 18:50:00    128.12\n",
       "2015-03-19 18:55:00    128.08\n",
       "2015-03-19 19:00:00    128.18\n",
       "2015-03-19 19:05:00    128.16\n",
       "2015-03-19 19:10:00    128.17\n",
       "2015-03-19 19:15:00    128.03\n",
       "2015-03-19 19:20:00    127.84\n",
       "2015-03-19 19:25:00    127.74\n",
       "2015-03-19 19:30:00    127.84\n",
       "2015-03-19 19:35:00    127.95\n",
       "2015-03-19 19:40:00    127.88\n",
       "2015-03-19 19:45:00    127.67\n",
       "2015-03-19 19:50:00    127.66\n",
       "2015-03-19 19:55:00    127.57\n",
       "2015-03-19 20:00:00    127.50\n",
       "Name: close_price, dtype: float64"
      ]
     },
     "execution_count": 9,
     "metadata": {},
     "output_type": "execute_result"
    }
   ],
   "source": [
    "aapl_bars.close_price['2015-03-19']"
   ]
  },
  {
   "cell_type": "markdown",
   "metadata": {},
   "source": [
    "Data alignment\n",
    "---"
   ]
  },
  {
   "cell_type": "code",
   "execution_count": 14,
   "metadata": {
    "collapsed": false
   },
   "outputs": [
    {
     "data": {
      "text/plain": [
       "2000-01-01   -1.333046\n",
       "2000-01-02   -0.701696\n",
       "2000-01-03   -1.985939\n",
       "2000-01-04    2.496814\n",
       "2000-01-05   -1.459653\n",
       "2000-01-06   -0.667527\n",
       "2000-01-07    0.701424\n",
       "2000-01-08    0.207097\n",
       "2000-01-09    1.115106\n",
       "2000-01-10    0.628178\n",
       "Freq: D, dtype: float64"
      ]
     },
     "execution_count": 14,
     "metadata": {},
     "output_type": "execute_result"
    }
   ],
   "source": [
    "ts1 = pd.Series(np.random.randn(10), \n",
    "                index=pd.date_range('1/1/2000', periods=10))\n",
    "ts1"
   ]
  },
  {
   "cell_type": "code",
   "execution_count": 15,
   "metadata": {
    "collapsed": false
   },
   "outputs": [
    {
     "data": {
      "text/plain": [
       "2000-01-01   -1.333046\n",
       "2000-01-03   -1.985939\n",
       "2000-01-05   -1.459653\n",
       "2000-01-06   -0.667527\n",
       "2000-01-07    0.701424\n",
       "2000-01-08    0.207097\n",
       "2000-01-09    1.115106\n",
       "dtype: float64"
      ]
     },
     "execution_count": 15,
     "metadata": {},
     "output_type": "execute_result"
    }
   ],
   "source": [
    "ts2 = ts1[[0, 2, 4, 5, 6, 7, 8]]\n",
    "ts2"
   ]
  },
  {
   "cell_type": "code",
   "execution_count": 16,
   "metadata": {
    "collapsed": false
   },
   "outputs": [
    {
     "data": {
      "text/plain": [
       "2000-01-01   -2.666091\n",
       "2000-01-02         NaN\n",
       "2000-01-03   -3.971878\n",
       "2000-01-04         NaN\n",
       "2000-01-05   -2.919307\n",
       "2000-01-06   -1.335054\n",
       "2000-01-07    1.402849\n",
       "2000-01-08    0.414195\n",
       "2000-01-09    2.230213\n",
       "2000-01-10         NaN\n",
       "dtype: float64"
      ]
     },
     "execution_count": 16,
     "metadata": {},
     "output_type": "execute_result"
    }
   ],
   "source": [
    "ts1 + ts2"
   ]
  },
  {
   "cell_type": "code",
   "execution_count": 17,
   "metadata": {
    "collapsed": false
   },
   "outputs": [
    {
     "data": {
      "text/plain": [
       "                   A         B\n",
       "2000-01-01 -1.333046 -1.333046\n",
       "2000-01-02 -0.701696       NaN\n",
       "2000-01-03 -1.985939 -1.985939\n",
       "2000-01-04  2.496814       NaN\n",
       "2000-01-05 -1.459653 -1.459653\n",
       "2000-01-06 -0.667527 -0.667527\n",
       "2000-01-07  0.701424  0.701424\n",
       "2000-01-08  0.207097  0.207097\n",
       "2000-01-09  1.115106  1.115106\n",
       "2000-01-10  0.628178       NaN"
      ]
     },
     "execution_count": 17,
     "metadata": {},
     "output_type": "execute_result"
    }
   ],
   "source": [
    "df = pd.DataFrame({'A': ts1, 'B': ts2})\n",
    "df"
   ]
  },
  {
   "cell_type": "code",
   "execution_count": 18,
   "metadata": {
    "collapsed": false
   },
   "outputs": [],
   "source": [
    "ibm_bars = load_bars('IBM')"
   ]
  },
  {
   "cell_type": "code",
   "execution_count": 19,
   "metadata": {
    "collapsed": false
   },
   "outputs": [
    {
     "data": {
      "text/plain": [
       "                     open_price    high     low  close_price  volume\n",
       "dt                                                                  \n",
       "2015-02-05 14:30:00      157.29  157.48  157.29       157.48     200\n",
       "2015-02-05 14:35:00      157.48  157.86  157.30       157.50  104111\n",
       "2015-02-05 14:40:00      157.50  157.54  157.30       157.50   49119\n",
       "2015-02-05 14:45:00      157.50  157.50  157.15       157.50   53640\n",
       "2015-02-05 14:50:00      157.50  157.79  157.32       157.78   60443\n",
       "2015-02-05 14:55:00      157.77  158.06  157.76       157.93   53523\n",
       "2015-02-05 15:00:00      157.93  157.94  157.61       157.70   40586\n",
       "2015-02-05 15:05:00      157.64  157.76  157.58       157.70   43421\n",
       "2015-02-05 15:10:00      157.70  158.00  157.68       157.73   41793\n",
       "2015-02-05 15:20:00      157.79  157.80  157.61       157.65   25312\n",
       "2015-02-05 15:25:00      157.68  157.68  157.52       157.63   40829\n",
       "2015-02-05 15:30:00      157.67  157.96  157.66       157.95   52566\n",
       "2015-02-05 15:35:00      157.95  158.27  157.83       158.20   41369\n",
       "2015-02-05 15:40:00      158.23  158.35  158.05       158.31   33819\n",
       "2015-02-05 15:45:00      158.33  158.35  158.13       158.13   22622\n",
       "2015-02-05 15:55:00      158.40  158.50  158.30       158.46   28091\n",
       "2015-02-05 16:00:00      158.43  158.50  158.16       158.18   36558\n",
       "2015-02-05 16:05:00      158.15  158.30  158.10       158.29   32772\n",
       "2015-02-05 16:10:00      158.29  158.59  158.27       158.45   47033\n",
       "2015-02-05 16:15:00      158.45  158.50  158.23       158.27   26426\n",
       "2015-02-05 16:20:00      158.31  158.38  158.16       158.21   35336\n",
       "2015-02-05 16:25:00      158.15  158.24  157.97       158.13   52786\n",
       "2015-02-05 16:30:00      158.16  158.30  158.02       158.10   49994\n",
       "2015-02-05 16:40:00      158.35  158.47  158.24       158.40   24303\n",
       "2015-02-05 16:45:00      158.37  158.38  158.21       158.25   15780\n",
       "2015-02-05 16:50:00      158.25  158.45  158.25       158.38   15741\n",
       "2015-02-05 16:55:00      158.38  158.40  158.17       158.19   17380\n",
       "2015-02-05 17:00:00      158.22  158.34  158.19       158.27   14294\n",
       "2015-02-05 17:05:00      158.26  158.37  158.16       158.26   14307\n",
       "2015-02-05 17:10:00      158.25  158.37  158.06       158.13   16162\n",
       "...                         ...     ...     ...          ...     ...\n",
       "2015-04-17 18:10:00      160.96  161.02  160.92       160.95   18868\n",
       "2015-04-17 18:15:00      160.94  161.13  160.90       161.10   20767\n",
       "2015-04-17 18:25:00      161.06  161.08  160.94       160.97   17838\n",
       "2015-04-17 18:30:00      160.95  160.95  160.83       160.87   16926\n",
       "2015-04-17 18:35:00      160.84  160.86  160.62       160.63   33656\n",
       "2015-04-17 18:40:00      160.66  160.82  160.60       160.80   32019\n",
       "2015-04-17 18:45:00      160.76  160.76  160.60       160.69   27765\n",
       "2015-04-17 18:50:00      160.70  160.88  160.61       160.77   35631\n",
       "2015-04-17 19:00:00      160.54  160.56  160.30       160.41   48205\n",
       "2015-04-17 19:10:00      160.34  160.45  160.22       160.25   32859\n",
       "2015-04-17 19:15:00      160.24  160.36  160.13       160.25   24348\n",
       "2015-04-17 19:20:00      160.24  160.27  160.03       160.25   31684\n",
       "2015-04-17 19:25:00      160.27  160.33  160.21       160.30   18437\n",
       "2015-04-17 19:35:00      160.34  160.35  160.21       160.32   21297\n",
       "2015-04-17 19:40:00      160.30  160.37  160.22       160.32   27421\n",
       "2015-04-17 19:50:00      160.38  160.40  160.19       160.29   46691\n",
       "2015-04-17 19:55:00      160.31  160.34  160.06       160.15   35001\n",
       "2015-04-17 20:00:00      160.16  160.36  160.15       160.27   30615\n",
       "2015-04-17 20:05:00      160.26  160.46  160.26       160.40   35975\n",
       "2015-04-17 20:10:00      160.41  160.46  160.21       160.30   36512\n",
       "2015-04-17 20:15:00      160.33  160.55  160.31       160.49   40344\n",
       "2015-04-17 20:20:00      160.49  160.59  160.30       160.34   40317\n",
       "2015-04-17 20:25:00      160.37  160.37  160.10       160.24   42757\n",
       "2015-04-17 20:30:00      160.24  160.34  160.11       160.30   29358\n",
       "2015-04-17 20:35:00      160.42  160.72  160.42       160.72   16677\n",
       "2015-04-17 20:40:00      160.71  160.95  160.64       160.88   22750\n",
       "2015-04-17 20:45:00      160.69  160.77  160.68       160.74    5000\n",
       "2015-04-17 20:50:00      160.78  160.79  160.62       160.64   72183\n",
       "2015-04-17 20:55:00      160.65  160.74  160.53       160.62  130181\n",
       "2015-04-17 21:00:00      160.63  160.90  160.60       160.80  257715\n",
       "\n",
       "[3519 rows x 5 columns]"
      ]
     },
     "execution_count": 19,
     "metadata": {},
     "output_type": "execute_result"
    }
   ],
   "source": [
    "def subsample(frame, pct=0.9):\n",
    "    N = len(frame)\n",
    "    indexer = np.sort(np.random.permutation(N)[:pct*N])\n",
    "    return frame.take(indexer)\n",
    "\n",
    "f1 = subsample(ibm_bars)\n",
    "f2 = subsample(aapl_bars)\n",
    "f1"
   ]
  },
  {
   "cell_type": "code",
   "execution_count": 20,
   "metadata": {
    "collapsed": false
   },
   "outputs": [
    {
     "data": {
      "text/plain": [
       "                           IBM                                           AAPL  \\\n",
       "                    open_price    high     low close_price  volume open_price   \n",
       "dt                                                                              \n",
       "2015-02-05 14:30:00     157.29  157.48  157.29      157.48     200     120.02   \n",
       "2015-02-05 14:35:00     157.48  157.86  157.30      157.50  104111     120.08   \n",
       "2015-02-05 14:40:00     157.50  157.54  157.30      157.50   49119     119.85   \n",
       "2015-02-05 14:45:00     157.50  157.50  157.15      157.50   53640     119.96   \n",
       "2015-02-05 14:50:00     157.50  157.79  157.32      157.78   60443        NaN   \n",
       "2015-02-05 14:55:00     157.77  158.06  157.76      157.93   53523     120.05   \n",
       "2015-02-05 15:00:00     157.93  157.94  157.61      157.70   40586     119.96   \n",
       "2015-02-05 15:05:00     157.64  157.76  157.58      157.70   43421     119.78   \n",
       "2015-02-05 15:10:00     157.70  158.00  157.68      157.73   41793     119.90   \n",
       "2015-02-05 15:15:00        NaN     NaN     NaN         NaN     NaN     119.72   \n",
       "2015-02-05 15:20:00     157.79  157.80  157.61      157.65   25312     119.53   \n",
       "2015-02-05 15:25:00     157.68  157.68  157.52      157.63   40829     119.58   \n",
       "2015-02-05 15:30:00     157.67  157.96  157.66      157.95   52566     119.56   \n",
       "2015-02-05 15:35:00     157.95  158.27  157.83      158.20   41369     119.50   \n",
       "2015-02-05 15:40:00     158.23  158.35  158.05      158.31   33819     119.66   \n",
       "2015-02-05 15:45:00     158.33  158.35  158.13      158.13   22622     119.86   \n",
       "2015-02-05 15:50:00        NaN     NaN     NaN         NaN     NaN     119.70   \n",
       "2015-02-05 15:55:00     158.40  158.50  158.30      158.46   28091        NaN   \n",
       "2015-02-05 16:00:00     158.43  158.50  158.16      158.18   36558     119.77   \n",
       "2015-02-05 16:05:00     158.15  158.30  158.10      158.29   32772     119.66   \n",
       "\n",
       "                                                          \n",
       "                       high     low close_price   volume  \n",
       "dt                                                        \n",
       "2015-02-05 14:30:00  120.10  119.85      120.07   577941  \n",
       "2015-02-05 14:35:00  120.11  119.52      119.84  1920261  \n",
       "2015-02-05 14:40:00  120.04  119.74      119.97  1028291  \n",
       "2015-02-05 14:45:00  120.09  119.85      119.98  1060368  \n",
       "2015-02-05 14:50:00     NaN     NaN         NaN      NaN  \n",
       "2015-02-05 14:55:00  120.20  119.88      119.95   991695  \n",
       "2015-02-05 15:00:00  120.02  119.66      119.77   885924  \n",
       "2015-02-05 15:05:00  119.99  119.77      119.89   618585  \n",
       "2015-02-05 15:10:00  119.92  119.67      119.72   822058  \n",
       "2015-02-05 15:15:00  119.77  119.35      119.51  1271490  \n",
       "2015-02-05 15:20:00  119.68  119.52      119.58   538615  \n",
       "2015-02-05 15:25:00  119.60  119.37      119.55   558301  \n",
       "2015-02-05 15:30:00  119.60  119.44      119.51   493765  \n",
       "2015-02-05 15:35:00  119.72  119.45      119.65   574057  \n",
       "2015-02-05 15:40:00  119.86  119.65      119.84   582737  \n",
       "2015-02-05 15:45:00  119.90  119.66      119.70   415424  \n",
       "2015-02-05 15:50:00  119.76  119.58      119.67   348403  \n",
       "2015-02-05 15:55:00     NaN     NaN         NaN      NaN  \n",
       "2015-02-05 16:00:00  119.78  119.66      119.66   320018  \n",
       "2015-02-05 16:05:00  119.72  119.57      119.68   376516  "
      ]
     },
     "execution_count": 20,
     "metadata": {},
     "output_type": "execute_result"
    }
   ],
   "source": [
    "both = pd.concat([f1, f2], axis=1, keys=['IBM', 'AAPL'])\n",
    "both.head(20)"
   ]
  },
  {
   "cell_type": "markdown",
   "metadata": {},
   "source": [
    "Missing data handling\n",
    "---"
   ]
  },
  {
   "cell_type": "code",
   "execution_count": 21,
   "metadata": {
    "collapsed": false
   },
   "outputs": [
    {
     "data": {
      "text/plain": [
       "                   A         B\n",
       "2000-01-01 -1.333046 -1.333046\n",
       "2000-01-02 -0.701696       NaN\n",
       "2000-01-03 -1.985939 -1.985939\n",
       "2000-01-04  2.496814       NaN\n",
       "2000-01-05 -1.459653 -1.459653\n",
       "2000-01-06 -0.667527 -0.667527\n",
       "2000-01-07  0.701424  0.701424\n",
       "2000-01-08  0.207097  0.207097\n",
       "2000-01-09  1.115106  1.115106\n",
       "2000-01-10  0.628178       NaN"
      ]
     },
     "execution_count": 21,
     "metadata": {},
     "output_type": "execute_result"
    }
   ],
   "source": [
    "df"
   ]
  },
  {
   "cell_type": "code",
   "execution_count": 22,
   "metadata": {
    "collapsed": false
   },
   "outputs": [
    {
     "data": {
      "text/plain": [
       "A    10\n",
       "B     7\n",
       "dtype: int64"
      ]
     },
     "execution_count": 22,
     "metadata": {},
     "output_type": "execute_result"
    }
   ],
   "source": [
    "df.count()"
   ]
  },
  {
   "cell_type": "code",
   "execution_count": 23,
   "metadata": {
    "collapsed": false
   },
   "outputs": [
    {
     "data": {
      "text/plain": [
       "IBM   open_price     3519\n",
       "      high           3519\n",
       "      low            3519\n",
       "      close_price    3519\n",
       "      volume         3519\n",
       "AAPL  open_price     3552\n",
       "      high           3552\n",
       "      low            3552\n",
       "      close_price    3552\n",
       "      volume         3552\n",
       "dtype: int64"
      ]
     },
     "execution_count": 23,
     "metadata": {},
     "output_type": "execute_result"
    }
   ],
   "source": [
    "both.count()"
   ]
  },
  {
   "cell_type": "code",
   "execution_count": 24,
   "metadata": {
    "collapsed": false
   },
   "outputs": [
    {
     "data": {
      "text/plain": [
       "A   -0.999241\n",
       "B   -3.422537\n",
       "dtype: float64"
      ]
     },
     "execution_count": 24,
     "metadata": {},
     "output_type": "execute_result"
    }
   ],
   "source": [
    "df.sum()"
   ]
  },
  {
   "cell_type": "code",
   "execution_count": 25,
   "metadata": {
    "collapsed": false
   },
   "outputs": [
    {
     "data": {
      "text/plain": [
       "2000-01-01   -1.333046\n",
       "2000-01-02   -0.701696\n",
       "2000-01-03   -1.985939\n",
       "2000-01-04    2.496814\n",
       "2000-01-05   -1.459653\n",
       "2000-01-06   -0.667527\n",
       "2000-01-07    0.701424\n",
       "2000-01-08    0.207097\n",
       "2000-01-09    1.115106\n",
       "2000-01-10    0.628178\n",
       "Freq: D, dtype: float64"
      ]
     },
     "execution_count": 25,
     "metadata": {},
     "output_type": "execute_result"
    }
   ],
   "source": [
    "df.mean(1)"
   ]
  },
  {
   "cell_type": "code",
   "execution_count": 26,
   "metadata": {
    "collapsed": false
   },
   "outputs": [
    {
     "data": {
      "text/plain": [
       "                   A         B\n",
       "2000-01-01 -1.333046 -1.333046\n",
       "2000-01-03 -1.985939 -1.985939\n",
       "2000-01-05 -1.459653 -1.459653\n",
       "2000-01-06 -0.667527 -0.667527\n",
       "2000-01-07  0.701424  0.701424\n",
       "2000-01-08  0.207097  0.207097\n",
       "2000-01-09  1.115106  1.115106"
      ]
     },
     "execution_count": 26,
     "metadata": {},
     "output_type": "execute_result"
    }
   ],
   "source": [
    "df.dropna()"
   ]
  },
  {
   "cell_type": "code",
   "execution_count": 27,
   "metadata": {
    "collapsed": false
   },
   "outputs": [
    {
     "data": {
      "text/plain": [
       "                   A         B\n",
       "2000-01-01 -1.333046 -1.333046\n",
       "2000-01-02 -0.701696  0.000000\n",
       "2000-01-03 -1.985939 -1.985939\n",
       "2000-01-04  2.496814  0.000000\n",
       "2000-01-05 -1.459653 -1.459653\n",
       "2000-01-06 -0.667527 -0.667527\n",
       "2000-01-07  0.701424  0.701424\n",
       "2000-01-08  0.207097  0.207097\n",
       "2000-01-09  1.115106  1.115106\n",
       "2000-01-10  0.628178  0.000000"
      ]
     },
     "execution_count": 27,
     "metadata": {},
     "output_type": "execute_result"
    }
   ],
   "source": [
    "df.fillna(0)"
   ]
  },
  {
   "cell_type": "code",
   "execution_count": 28,
   "metadata": {
    "collapsed": false
   },
   "outputs": [
    {
     "data": {
      "text/plain": [
       "                   A         B\n",
       "2000-01-01 -1.333046 -1.333046\n",
       "2000-01-02 -0.701696 -1.333046\n",
       "2000-01-03 -1.985939 -1.985939\n",
       "2000-01-04  2.496814 -1.985939\n",
       "2000-01-05 -1.459653 -1.459653\n",
       "2000-01-06 -0.667527 -0.667527\n",
       "2000-01-07  0.701424  0.701424\n",
       "2000-01-08  0.207097  0.207097\n",
       "2000-01-09  1.115106  1.115106\n",
       "2000-01-10  0.628178  1.115106"
      ]
     },
     "execution_count": 28,
     "metadata": {},
     "output_type": "execute_result"
    }
   ],
   "source": [
    "df.fillna(method='ffill')"
   ]
  },
  {
   "cell_type": "code",
   "execution_count": 29,
   "metadata": {
    "collapsed": false
   },
   "outputs": [
    {
     "data": {
      "text/plain": [
       "                            A         B\n",
       "2000-01-01 00:00:00 -1.333046 -1.333046\n",
       "2000-01-01 04:00:00       NaN       NaN\n",
       "2000-01-01 08:00:00       NaN       NaN\n",
       "2000-01-01 12:00:00       NaN       NaN\n",
       "2000-01-01 16:00:00       NaN       NaN\n",
       "2000-01-01 20:00:00       NaN       NaN\n",
       "2000-01-02 00:00:00 -0.701696       NaN\n",
       "2000-01-02 04:00:00       NaN       NaN\n",
       "2000-01-02 08:00:00       NaN       NaN\n",
       "2000-01-02 12:00:00       NaN       NaN\n",
       "2000-01-02 16:00:00       NaN       NaN\n",
       "2000-01-02 20:00:00       NaN       NaN\n",
       "2000-01-03 00:00:00 -1.985939 -1.985939\n",
       "2000-01-03 04:00:00       NaN       NaN\n",
       "2000-01-03 08:00:00       NaN       NaN\n",
       "2000-01-03 12:00:00       NaN       NaN\n",
       "2000-01-03 16:00:00       NaN       NaN\n",
       "2000-01-03 20:00:00       NaN       NaN\n",
       "2000-01-04 00:00:00  2.496814       NaN\n",
       "2000-01-04 04:00:00       NaN       NaN\n",
       "2000-01-04 08:00:00       NaN       NaN\n",
       "2000-01-04 12:00:00       NaN       NaN\n",
       "2000-01-04 16:00:00       NaN       NaN\n",
       "2000-01-04 20:00:00       NaN       NaN\n",
       "2000-01-05 00:00:00 -1.459653 -1.459653\n",
       "2000-01-05 04:00:00       NaN       NaN\n",
       "2000-01-05 08:00:00       NaN       NaN\n",
       "2000-01-05 12:00:00       NaN       NaN\n",
       "2000-01-05 16:00:00       NaN       NaN\n",
       "2000-01-05 20:00:00       NaN       NaN\n",
       "2000-01-06 00:00:00 -0.667527 -0.667527\n",
       "2000-01-06 04:00:00       NaN       NaN\n",
       "2000-01-06 08:00:00       NaN       NaN\n",
       "2000-01-06 12:00:00       NaN       NaN\n",
       "2000-01-06 16:00:00       NaN       NaN\n",
       "2000-01-06 20:00:00       NaN       NaN\n",
       "2000-01-07 00:00:00  0.701424  0.701424\n",
       "2000-01-07 04:00:00       NaN       NaN\n",
       "2000-01-07 08:00:00       NaN       NaN\n",
       "2000-01-07 12:00:00       NaN       NaN\n",
       "2000-01-07 16:00:00       NaN       NaN\n",
       "2000-01-07 20:00:00       NaN       NaN\n",
       "2000-01-08 00:00:00  0.207097  0.207097\n",
       "2000-01-08 04:00:00       NaN       NaN\n",
       "2000-01-08 08:00:00       NaN       NaN\n",
       "2000-01-08 12:00:00       NaN       NaN\n",
       "2000-01-08 16:00:00       NaN       NaN\n",
       "2000-01-08 20:00:00       NaN       NaN\n",
       "2000-01-09 00:00:00  1.115106  1.115106\n",
       "2000-01-09 04:00:00       NaN       NaN\n",
       "2000-01-09 08:00:00       NaN       NaN\n",
       "2000-01-09 12:00:00       NaN       NaN\n",
       "2000-01-09 16:00:00       NaN       NaN\n",
       "2000-01-09 20:00:00       NaN       NaN\n",
       "2000-01-10 00:00:00  0.628178       NaN"
      ]
     },
     "execution_count": 29,
     "metadata": {},
     "output_type": "execute_result"
    }
   ],
   "source": [
    "df.asfreq('4h')"
   ]
  },
  {
   "cell_type": "code",
   "execution_count": 30,
   "metadata": {
    "collapsed": false
   },
   "outputs": [
    {
     "data": {
      "text/plain": [
       "                            A         B\n",
       "2000-01-01 00:00:00 -1.333046 -1.333046\n",
       "2000-01-01 04:00:00 -1.333046 -1.333046\n",
       "2000-01-01 08:00:00 -1.333046 -1.333046\n",
       "2000-01-01 12:00:00 -1.333046 -1.333046\n",
       "2000-01-01 16:00:00       NaN       NaN\n",
       "2000-01-01 20:00:00       NaN       NaN\n",
       "2000-01-02 00:00:00 -0.701696       NaN\n",
       "2000-01-02 04:00:00 -0.701696       NaN\n",
       "2000-01-02 08:00:00 -0.701696       NaN\n",
       "2000-01-02 12:00:00 -0.701696       NaN\n",
       "2000-01-02 16:00:00       NaN       NaN\n",
       "2000-01-02 20:00:00       NaN       NaN\n",
       "2000-01-03 00:00:00 -1.985939 -1.985939\n",
       "2000-01-03 04:00:00 -1.985939 -1.985939\n",
       "2000-01-03 08:00:00 -1.985939 -1.985939\n",
       "2000-01-03 12:00:00 -1.985939 -1.985939\n",
       "2000-01-03 16:00:00       NaN       NaN\n",
       "2000-01-03 20:00:00       NaN       NaN\n",
       "2000-01-04 00:00:00  2.496814       NaN\n",
       "2000-01-04 04:00:00  2.496814       NaN\n",
       "2000-01-04 08:00:00  2.496814       NaN\n",
       "2000-01-04 12:00:00  2.496814       NaN\n",
       "2000-01-04 16:00:00       NaN       NaN\n",
       "2000-01-04 20:00:00       NaN       NaN\n",
       "2000-01-05 00:00:00 -1.459653 -1.459653\n",
       "2000-01-05 04:00:00 -1.459653 -1.459653\n",
       "2000-01-05 08:00:00 -1.459653 -1.459653\n",
       "2000-01-05 12:00:00 -1.459653 -1.459653\n",
       "2000-01-05 16:00:00       NaN       NaN\n",
       "2000-01-05 20:00:00       NaN       NaN\n",
       "2000-01-06 00:00:00 -0.667527 -0.667527\n",
       "2000-01-06 04:00:00 -0.667527 -0.667527\n",
       "2000-01-06 08:00:00 -0.667527 -0.667527\n",
       "2000-01-06 12:00:00 -0.667527 -0.667527\n",
       "2000-01-06 16:00:00       NaN       NaN\n",
       "2000-01-06 20:00:00       NaN       NaN\n",
       "2000-01-07 00:00:00  0.701424  0.701424\n",
       "2000-01-07 04:00:00  0.701424  0.701424\n",
       "2000-01-07 08:00:00  0.701424  0.701424\n",
       "2000-01-07 12:00:00  0.701424  0.701424\n",
       "2000-01-07 16:00:00       NaN       NaN\n",
       "2000-01-07 20:00:00       NaN       NaN\n",
       "2000-01-08 00:00:00  0.207097  0.207097\n",
       "2000-01-08 04:00:00  0.207097  0.207097\n",
       "2000-01-08 08:00:00  0.207097  0.207097\n",
       "2000-01-08 12:00:00  0.207097  0.207097\n",
       "2000-01-08 16:00:00       NaN       NaN\n",
       "2000-01-08 20:00:00       NaN       NaN\n",
       "2000-01-09 00:00:00  1.115106  1.115106\n",
       "2000-01-09 04:00:00  1.115106  1.115106\n",
       "2000-01-09 08:00:00  1.115106  1.115106\n",
       "2000-01-09 12:00:00  1.115106  1.115106\n",
       "2000-01-09 16:00:00       NaN       NaN\n",
       "2000-01-09 20:00:00       NaN       NaN\n",
       "2000-01-10 00:00:00  0.628178       NaN"
      ]
     },
     "execution_count": 30,
     "metadata": {},
     "output_type": "execute_result"
    }
   ],
   "source": [
    "df.asfreq('4h').ffill(limit=3)"
   ]
  },
  {
   "cell_type": "markdown",
   "metadata": {},
   "source": [
    "Data Analysis & Plots\n",
    "---"
   ]
  },
  {
   "cell_type": "code",
   "execution_count": 79,
   "metadata": {
    "collapsed": false
   },
   "outputs": [
    {
     "data": {
      "text/plain": [
       "                  mean      median         std\n",
       "dt                                            \n",
       "1980-12-31   30.442332   29.625120    3.843903\n",
       "1981-03-31   27.627040   26.625200    3.312069\n",
       "1981-06-30   29.001991   28.375200    2.258885\n",
       "1981-09-30   21.609129   22.125040    3.273734\n",
       "1981-12-31   19.140590   18.874800    1.430488\n",
       "1982-03-31   18.354849   18.500160    1.720529\n",
       "1982-06-30   14.769849   14.375200    1.495266\n",
       "1982-09-30   15.162079   14.249760    2.564656\n",
       "1982-12-31   28.191371   29.125040    3.960263\n",
       "1983-03-31   40.565493   42.375200    5.713922\n",
       "1983-06-30   52.220240   53.124960    5.992199\n",
       "1983-09-30   35.692444   33.999840    6.685009\n",
       "1983-12-31   21.609120   21.124880    1.718077\n",
       "1984-03-31   26.293662   26.250000    1.413870\n",
       "1984-06-30   28.765867   29.000160    2.540779\n",
       "1984-09-30   26.880916   26.750080    1.318202\n",
       "1984-12-31   25.291000   24.937640    1.548806\n",
       "1985-03-31   26.693520   27.937560    3.153834\n",
       "1985-06-30   19.214293   19.874960    2.354716\n",
       "1985-09-30   16.015677   15.812440    1.066635\n",
       "1985-12-31   19.044935   19.312440    2.000001\n",
       "1986-03-31   24.573727   23.999920    1.666021\n",
       "1986-06-30   33.234381   34.812680    3.787912\n",
       "1986-09-30   34.365231   34.687520    1.817372\n",
       "1986-12-31   37.298835   35.749840    3.744265\n",
       "1987-03-31   58.508086   61.687640    8.525589\n",
       "1987-06-30   69.599209   75.000240   13.687412\n",
       "1987-09-30   47.720689   49.250040    5.702293\n",
       "1987-12-31   40.119139   37.250080    7.820018\n",
       "1988-03-31   42.434511   42.000000    2.272506\n",
       "...                ...         ...         ...\n",
       "2008-03-31  139.138690  130.010030   20.839205\n",
       "2008-06-30  173.566716  177.220015   13.373704\n",
       "2008-09-30  160.141247  165.670015   17.428717\n",
       "2008-12-31   94.936247   95.000020    7.110503\n",
       "2009-03-31   93.574102   92.680000    6.981178\n",
       "2009-06-30  129.413330  129.059980    9.112012\n",
       "2009-09-30  164.225161  165.410005   13.851953\n",
       "2009-12-31  197.276407  196.724990    7.235461\n",
       "2010-03-31  210.855079  209.330020   12.114810\n",
       "2010-06-30  254.738886  254.219970   10.703519\n",
       "2010-09-30  259.905156  258.390030   13.659376\n",
       "2010-12-31  311.494688  314.770020   10.978353\n",
       "2011-03-31  345.683224  345.229995    8.865367\n",
       "2011-06-30  337.612380  336.780030    8.641072\n",
       "2011-09-30  380.510310  381.175020   16.805340\n",
       "2011-12-31  391.658570  392.870030   13.415346\n",
       "2012-03-31  503.679839  502.405045   66.557039\n",
       "2012-06-30  581.090160  574.130000   23.680926\n",
       "2012-09-30  640.543495  631.690000   36.631736\n",
       "2012-12-31  577.763868  576.325015   47.951067\n",
       "2013-03-31  466.174332  456.275025   32.541286\n",
       "2013-06-30  430.742970  432.725020   18.459392\n",
       "2013-09-30  464.245468  466.304975   29.802427\n",
       "2013-12-31  528.972972  524.930020   26.241922\n",
       "2014-03-31  532.604590  532.940060   13.922795\n",
       "2014-06-30  455.642697  542.549990  216.859195\n",
       "2014-09-30   98.163437   98.055000    2.913891\n",
       "2014-12-31  108.821250  109.555000    6.286416\n",
       "2015-03-31  120.777049  123.590000    7.988635\n",
       "2015-06-30  126.086667  126.235000    0.951232\n",
       "\n",
       "[139 rows x 3 columns]"
      ]
     },
     "execution_count": 79,
     "metadata": {},
     "output_type": "execute_result"
    }
   ],
   "source": [
    "aapl_bars2 = load_bars('AAPL2')\n",
    "mth_mean = aapl_bars2.close_price.resample('Q', how=['mean', 'median', 'std'])\n",
    "mth_mean"
   ]
  },
  {
   "cell_type": "code",
   "execution_count": 81,
   "metadata": {
    "collapsed": false
   },
   "outputs": [
    {
     "data": {
      "text/plain": [
       "<matplotlib.axes._subplots.AxesSubplot at 0x16d42a2d0>"
      ]
     },
     "execution_count": 81,
     "metadata": {},
     "output_type": "execute_result"
    },
    {
     "data": {
      "image/png": "[encoded data removed]",
      "text/plain": [
       "<matplotlib.figure.Figure at 0x16d2823d0>"
      ]
     },
     "metadata": {},
     "output_type": "display_data"
    }
   ],
   "source": [
    "mth_mean.plot()"
   ]
  },
  {
   "cell_type": "code",
   "execution_count": 78,
   "metadata": {
    "collapsed": false
   },
   "outputs": [
    {
     "data": {
      "text/plain": [
       "<matplotlib.axes._subplots.AxesSubplot at 0x16ac0ce10>"
      ]
     },
     "execution_count": 78,
     "metadata": {},
     "output_type": "execute_result"
    },
    {
     "data": {
      "image/png": "[encoded data removed]",
      "text/plain": [
       "<matplotlib.figure.Figure at 0x16b150f90>"
      ]
     },
     "metadata": {},
     "output_type": "display_data"
    }
   ],
   "source": [
    "mth_mean.groupby(mth_mean.index.month).aggregate(np.mean).plot(kind='bar')"
   ]
  },
  {
   "cell_type": "markdown",
   "metadata": {},
   "source": [
    "Regression Analysis\n",
    "---"
   ]
  },
  {
   "cell_type": "code",
   "execution_count": 28,
   "metadata": {
    "collapsed": false
   },
   "outputs": [],
   "source": [
    "import scipy.stats as stats\n",
    "x = np.array(range(1, 101))\n",
    "y = 2*x + np.random.normal(20, 1000, size = 100)"
   ]
  },
  {
   "cell_type": "code",
   "execution_count": 29,
   "metadata": {
    "collapsed": false
   },
   "outputs": [
    {
     "name": "stdout",
     "output_type": "stream",
     "text": [
      "y =  10.3588024566 x +  -420.928428853\n",
      "R squared  0.0755609833019\n"
     ]
    }
   ],
   "source": [
    "slope, intercept, r_value, p_value, std_err = stats.linregress(x, y)\n",
    "print \"y = \", slope, \"x + \", intercept\n",
    "print \"R squared \", r_value**2"
   ]
  },
  {
   "cell_type": "code",
   "execution_count": 30,
   "metadata": {
    "collapsed": false
   },
   "outputs": [
    {
     "data": {
      "image/png": "[encoded data removed]",
      "text/plain": [
       "<matplotlib.figure.Figure at 0x10dfc6c50>"
      ]
     },
     "metadata": {},
     "output_type": "display_data"
    }
   ],
   "source": [
    "plt.scatter(x, y, label = 'Data')\n",
    "plt.plot((slope * x) + intercept, 'r-', label='Predicted')\n",
    "plt.legend(loc='upper left');"
   ]
  },
  {
   "cell_type": "code",
   "execution_count": 35,
   "metadata": {
    "collapsed": false
   },
   "outputs": [
    {
     "data": {
      "text/plain": [
       "(array([  1,   2,   3,   4,   5,   6,   7,   8,   9,  10,  11,  12,  13,\n",
       "         14,  15,  16,  17,  18,  19,  20,  21,  22,  23,  24,  25,  26,\n",
       "         27,  28,  29,  30,  31,  32,  33,  34,  35,  36,  37,  38,  39,\n",
       "         40,  41,  42,  43,  44,  45,  46,  47,  48,  49,  50,  51,  52,\n",
       "         53,  54,  55,  56,  57,  58,  59,  60,  61,  62,  63,  64,  65,\n",
       "         66,  67,  68,  69,  70,  71,  72,  73,  74,  75,  76,  77,  78,\n",
       "         79,  80,  81,  82,  83,  84,  85,  86,  87,  88,  89,  90,  91,\n",
       "         92,  93,  94,  95,  96,  97,  98,  99, 100]),\n",
       " array([  3.40830208e+02,   4.93236443e+00,   2.00297664e+02,\n",
       "          4.11411759e+02,   1.13719588e+02,   3.69034681e+01,\n",
       "          1.31318457e+02,   4.03735872e+02,   3.42772109e+02,\n",
       "          1.07361746e+02,   1.31763166e+02,   1.51614280e+02,\n",
       "          2.54015736e+02,   3.06637104e+02,   3.08584111e+02,\n",
       "          3.68787823e+02,   5.85603395e+02,   5.41311758e+02,\n",
       "          4.34312816e+02,   4.46130750e+02,   4.66996464e+02,\n",
       "          5.23165847e+02,   5.85118846e+02,   5.90373029e+02,\n",
       "          6.33939948e+02,   7.14067828e+02,   7.72826276e+02,\n",
       "          1.64972291e+03,   9.74936362e+02,   1.27429082e+03,\n",
       "          9.61416229e+02,   1.17199224e+03,   1.33775299e+03,\n",
       "          1.17425610e+03,   1.34997937e+03,   1.40952095e+03,\n",
       "          1.45606292e+03,   1.46640093e+03,   1.55650644e+03,\n",
       "          1.60234651e+03,   1.69116601e+03,   1.76400003e+03,\n",
       "          1.96036808e+03,   2.64731283e+03,   2.02849194e+03,\n",
       "          2.15955476e+03,   2.20906827e+03,   2.30860898e+03,\n",
       "          2.40153964e+03,   2.56877003e+03,   2.61452974e+03,\n",
       "          3.13339083e+03,   2.82969570e+03,   2.97034138e+03,\n",
       "          3.02641352e+03,   3.13965664e+03,   3.26285662e+03,\n",
       "          3.42118293e+03,   3.54276483e+03,   3.62192287e+03,\n",
       "          3.72409208e+03,   4.04324824e+03,   4.02631483e+03,\n",
       "          4.61692160e+03,   4.24255547e+03,   4.78089364e+03,\n",
       "          4.59345649e+03,   4.71497566e+03,   4.81448994e+03,\n",
       "          4.90277208e+03,   5.14066520e+03,   5.19154090e+03,\n",
       "          5.36783826e+03,   5.55948871e+03,   5.82246108e+03,\n",
       "          5.90161603e+03,   6.13201430e+03,   6.10706006e+03,\n",
       "          6.24166567e+03,   6.85706374e+03,   6.59611057e+03,\n",
       "          6.84396066e+03,   6.93268122e+03,   7.10184414e+03,\n",
       "          7.23184802e+03,   7.39653155e+03,   7.67686300e+03,\n",
       "          7.76930820e+03,   7.93088850e+03,   8.10570889e+03,\n",
       "          8.32698430e+03,   8.54263334e+03,   8.86929369e+03,\n",
       "          9.30075996e+03,   9.08219200e+03,   9.40153928e+03,\n",
       "          9.42205585e+03,   9.71983939e+03,   9.80326079e+03,\n",
       "          1.02025151e+04]))"
      ]
     },
     "execution_count": 35,
     "metadata": {},
     "output_type": "execute_result"
    }
   ],
   "source": [
    "y = x**2 + np.random.normal(2, 10, size = 100) ** 2\n",
    "z = np.polyfit(x, y, 4)\n",
    "x, y"
   ]
  },
  {
   "cell_type": "code",
   "execution_count": 36,
   "metadata": {
    "collapsed": false
   },
   "outputs": [
    {
     "data": {
      "text/plain": [
       "[<matplotlib.lines.Line2D at 0x10e0ca510>]"
      ]
     },
     "execution_count": 36,
     "metadata": {},
     "output_type": "execute_result"
    },
    {
     "data": {
      "image/png": "[encoded data removed]",
      "text/plain": [
       "<matplotlib.figure.Figure at 0x10d7936d0>"
      ]
     },
     "metadata": {},
     "output_type": "display_data"
    }
   ],
   "source": [
    "plt.scatter(x, y)\n",
    "px = np.poly1d(z)\n",
    "plt.plot(x, px(x), 'r-')"
   ]
  },
  {
   "cell_type": "code",
   "execution_count": 37,
   "metadata": {
    "collapsed": false
   },
   "outputs": [
    {
     "name": "stdout",
     "output_type": "stream",
     "text": [
      "1.41829091878 0.850353401508\n"
     ]
    }
   ],
   "source": [
    "slope, intercept, r_value, p_value, std_err = stats.linregress(np.log(x), np.log(y))\n",
    "print slope, r_value**2"
   ]
  },
  {
   "cell_type": "markdown",
   "metadata": {},
   "source": [
    "Groupby operations\n",
    "---"
   ]
  },
  {
   "cell_type": "code",
   "execution_count": 33,
   "metadata": {
    "collapsed": false
   },
   "outputs": [],
   "source": [
    "import random, string\n",
    "import matplotlib as mpl\n",
    "def rands(n):\n",
    "    choices = string.ascii_letters\n",
    "    return ''.join([random.choice(choices) for _ in xrange(n)])\n",
    "mpl.rc('figure', figsize=(12, 8))\n",
    "\n",
    "ind_names = np.array(['ENERGY', 'FINANCIAL', 'TECH', \n",
    "                      'CONSDUR', 'SERVICES', 'UTILITIES'], dtype='O')\n",
    "ccys = np.array(['USD', 'EUR'], dtype='O')\n",
    "\n",
    "Nfull = 2000\n",
    "tickers = np.array(sorted(rands(5).upper() for _ in xrange(Nfull)), dtype='O')\n",
    "tickers = np.unique(tickers)\n",
    "\n",
    "industries = pd.Series(ind_names.take(np.random.randint(0, 6, Nfull)), \n",
    "                       index=tickers, name='industry')\n",
    "ccy = pd.Series(ccys.take(np.random.randint(0, len(ccys), Nfull)), \n",
    "                index=tickers, name='ccy')"
   ]
  },
  {
   "cell_type": "code",
   "execution_count": 34,
   "metadata": {
    "collapsed": false
   },
   "outputs": [
    {
     "data": {
      "text/plain": [
       "ABDXV    EUR\n",
       "ABFNK    USD\n",
       "ABOOU    EUR\n",
       "ACGCP    USD\n",
       "ACRXL    EUR\n",
       "ACUPQ    EUR\n",
       "ADBXG    USD\n",
       "ADVMM    USD\n",
       "AEMQB    USD\n",
       "AENOO    EUR\n",
       "AEREW    USD\n",
       "AETVB    EUR\n",
       "AFWNP    EUR\n",
       "AGTEL    USD\n",
       "AGWAE    USD\n",
       "AGXAF    USD\n",
       "AHBRM    USD\n",
       "AHFWY    USD\n",
       "AHKCL    USD\n",
       "AHKVW    EUR\n",
       "AHLAC    EUR\n",
       "AHQLH    USD\n",
       "AHTTQ    USD\n",
       "AHXWH    USD\n",
       "AIZND    USD\n",
       "AJGHT    USD\n",
       "AJHZU    USD\n",
       "AJMCJ    USD\n",
       "AJNPG    USD\n",
       "AJZVZ    USD\n",
       "        ... \n",
       "ZNKAA    USD\n",
       "ZOKYH    USD\n",
       "ZONDS    EUR\n",
       "ZPCMJ    USD\n",
       "ZPMMD    EUR\n",
       "ZQBFW    USD\n",
       "ZQRNY    EUR\n",
       "ZRYUC    EUR\n",
       "ZSIFM    EUR\n",
       "ZSJDM    EUR\n",
       "ZSNVW    EUR\n",
       "ZSXEH    EUR\n",
       "ZTGFX    EUR\n",
       "ZUBNS    EUR\n",
       "ZUECK    EUR\n",
       "ZUJLQ    USD\n",
       "ZVFJN    USD\n",
       "ZVZAP    USD\n",
       "ZWCHM    USD\n",
       "ZWEOH    EUR\n",
       "ZWSJC    USD\n",
       "ZWZZC    EUR\n",
       "ZXFFE    USD\n",
       "ZYDBR    USD\n",
       "ZYHEL    EUR\n",
       "ZYLKQ    USD\n",
       "ZZAFC    USD\n",
       "ZZFSW    EUR\n",
       "ZZOBZ    EUR\n",
       "ZZOTZ    EUR\n",
       "Name: ccy, dtype: object"
      ]
     },
     "execution_count": 34,
     "metadata": {},
     "output_type": "execute_result"
    }
   ],
   "source": [
    "ccy"
   ]
  },
  {
   "cell_type": "code",
   "execution_count": 35,
   "metadata": {
    "collapsed": false
   },
   "outputs": [
    {
     "data": {
      "text/plain": [
       "       Momentum  ShortInterest     Value\n",
       "LDQNU  0.031178      -0.012900  0.084594\n",
       "KVNPE  0.038959      -0.015761  0.074342\n",
       "NYRIL  0.035598      -0.021233  0.070780\n",
       "EQRJJ  0.032065      -0.019855  0.081518\n",
       "CBFHT  0.033508      -0.017301  0.088550"
      ]
     },
     "execution_count": 35,
     "metadata": {},
     "output_type": "execute_result"
    }
   ],
   "source": [
    "df = pd.DataFrame({'Momentum' : np.random.randn(1000) / 200 + 0.03,\n",
    "                'Value' : np.random.randn(1000) / 200 + 0.08,\n",
    "                'ShortInterest' : np.random.randn(1000) / 200 - 0.02},\n",
    "                index=tickers.take(np.random.permutation(Nfull)[:1000]))\n",
    "df.head()"
   ]
  },
  {
   "cell_type": "code",
   "execution_count": 36,
   "metadata": {
    "collapsed": false
   },
   "outputs": [
    {
     "data": {
      "text/plain": [
       "           Momentum  ShortInterest     Value\n",
       "industry                                    \n",
       "CONSDUR    0.029533      -0.020063  0.080109\n",
       "ENERGY     0.029796      -0.020050  0.080083\n",
       "FINANCIAL  0.028928      -0.019391  0.079953\n",
       "SERVICES   0.029318      -0.020368  0.080058\n",
       "TECH       0.030470      -0.020055  0.079259\n",
       "UTILITIES  0.029819      -0.020375  0.080093"
      ]
     },
     "execution_count": 36,
     "metadata": {},
     "output_type": "execute_result"
    }
   ],
   "source": [
    "means = df.groupby(industries).mean()\n",
    "means"
   ]
  },
  {
   "cell_type": "code",
   "execution_count": 37,
   "metadata": {
    "collapsed": false
   },
   "outputs": [
    {
     "data": {
      "text/plain": [
       "<matplotlib.axes._subplots.AxesSubplot at 0x113080390>"
      ]
     },
     "execution_count": 37,
     "metadata": {},
     "output_type": "execute_result"
    },
    {
     "data": {
      "image/png": "[encoded data removed]",
      "text/plain": [
       "<matplotlib.figure.Figure at 0x112cf9f10>"
      ]
     },
     "metadata": {},
     "output_type": "display_data"
    }
   ],
   "source": [
    "means.plot(kind='barh')"
   ]
  },
  {
   "cell_type": "code",
   "execution_count": 38,
   "metadata": {
    "collapsed": false
   },
   "outputs": [
    {
     "data": {
      "text/plain": [
       "               Momentum  ShortInterest     Value\n",
       "industry  ccy                                   \n",
       "CONSDUR   EUR  0.029595      -0.020472  0.080495\n",
       "          USD  0.029471      -0.019649  0.079718\n",
       "ENERGY    EUR  0.030006      -0.020151  0.080513\n",
       "          USD  0.029611      -0.019962  0.079705\n",
       "FINANCIAL EUR  0.028627      -0.018909  0.079624\n",
       "          USD  0.029222      -0.019862  0.080274\n",
       "SERVICES  EUR  0.029504      -0.019712  0.080287\n",
       "          USD  0.029121      -0.021063  0.079815\n",
       "TECH      EUR  0.029732      -0.020271  0.079494\n",
       "          USD  0.031217      -0.019837  0.079020\n",
       "UTILITIES EUR  0.028841      -0.020151  0.079973\n",
       "          USD  0.031032      -0.020653  0.080243"
      ]
     },
     "execution_count": 38,
     "metadata": {},
     "output_type": "execute_result"
    }
   ],
   "source": [
    "means = df.groupby([industries, ccy]).mean()\n",
    "means"
   ]
  },
  {
   "cell_type": "code",
   "execution_count": 39,
   "metadata": {
    "collapsed": false
   },
   "outputs": [],
   "source": [
    "keys = [industries, ccy]\n",
    "zscore = lambda x: (x - x.mean()) / x.std()\n",
    "normed = df.groupby(keys).apply(zscore)"
   ]
  },
  {
   "cell_type": "code",
   "execution_count": 40,
   "metadata": {
    "collapsed": false
   },
   "outputs": [
    {
     "data": {
      "text/plain": [
       "                   Momentum     ShortInterest             Value    \n",
       "                       mean std          mean std          mean std\n",
       "industry  ccy                                                      \n",
       "CONSDUR   EUR  1.098038e-15   1  3.994095e-16   1 -3.579792e-15   1\n",
       "          USD  1.154084e-15   1 -5.688180e-16   1  5.242720e-15   1\n",
       "ENERGY    EUR  1.940809e-15   1  8.520962e-16   1 -1.294277e-15   1\n",
       "          USD -1.593353e-15   1 -2.879260e-16   1 -2.521792e-15   1\n",
       "FINANCIAL EUR -9.482611e-16   1 -3.239239e-16   1  2.873518e-16   1\n",
       "          USD -7.839754e-16   1  8.766934e-16   1 -9.992007e-16   1\n",
       "SERVICES  EUR  9.736282e-16   1 -4.440892e-16   1 -3.731098e-15   1\n",
       "          USD  1.535809e-15   1  2.616954e-16   1 -4.420075e-15   1\n",
       "TECH      EUR -2.128168e-15   1 -1.211152e-16   1  5.378093e-16   1\n",
       "          USD  2.950856e-16   1 -1.192394e-16   1  2.346077e-15   1\n",
       "UTILITIES EUR  3.755658e-15   1 -5.467550e-16   1  7.723810e-15   1\n",
       "          USD -4.983976e-16   1  4.440892e-16   1  6.193564e-15   1"
      ]
     },
     "execution_count": 40,
     "metadata": {},
     "output_type": "execute_result"
    }
   ],
   "source": [
    "normed.groupby(keys).agg(['mean', 'std'])"
   ]
  },
  {
   "cell_type": "markdown",
   "metadata": {},
   "source": [
    "Hierarchical indexing\n",
    "---"
   ]
  },
  {
   "cell_type": "code",
   "execution_count": 41,
   "metadata": {
    "collapsed": false
   },
   "outputs": [
    {
     "data": {
      "text/plain": [
       "               Momentum  ShortInterest     Value\n",
       "industry  ccy                                   \n",
       "CONSDUR   EUR  0.029595      -0.020472  0.080495\n",
       "          USD  0.029471      -0.019649  0.079718\n",
       "ENERGY    EUR  0.030006      -0.020151  0.080513\n",
       "          USD  0.029611      -0.019962  0.079705\n",
       "FINANCIAL EUR  0.028627      -0.018909  0.079624\n",
       "          USD  0.029222      -0.019862  0.080274\n",
       "SERVICES  EUR  0.029504      -0.019712  0.080287\n",
       "          USD  0.029121      -0.021063  0.079815\n",
       "TECH      EUR  0.029732      -0.020271  0.079494\n",
       "          USD  0.031217      -0.019837  0.079020\n",
       "UTILITIES EUR  0.028841      -0.020151  0.079973\n",
       "          USD  0.031032      -0.020653  0.080243"
      ]
     },
     "execution_count": 41,
     "metadata": {},
     "output_type": "execute_result"
    }
   ],
   "source": [
    "means"
   ]
  },
  {
   "cell_type": "code",
   "execution_count": 42,
   "metadata": {
    "collapsed": false
   },
   "outputs": [
    {
     "data": {
      "text/plain": [
       "industry   ccy\n",
       "CONSDUR    EUR    0.029595\n",
       "           USD    0.029471\n",
       "ENERGY     EUR    0.030006\n",
       "           USD    0.029611\n",
       "FINANCIAL  EUR    0.028627\n",
       "           USD    0.029222\n",
       "SERVICES   EUR    0.029504\n",
       "           USD    0.029121\n",
       "TECH       EUR    0.029732\n",
       "           USD    0.031217\n",
       "UTILITIES  EUR    0.028841\n",
       "           USD    0.031032\n",
       "Name: Momentum, dtype: float64"
      ]
     },
     "execution_count": 42,
     "metadata": {},
     "output_type": "execute_result"
    }
   ],
   "source": [
    "means['Momentum']"
   ]
  },
  {
   "cell_type": "code",
   "execution_count": 43,
   "metadata": {
    "collapsed": false
   },
   "outputs": [
    {
     "data": {
      "text/plain": [
       "     Momentum  ShortInterest     Value\n",
       "ccy                                   \n",
       "EUR  0.029732      -0.020271  0.079494\n",
       "USD  0.031217      -0.019837  0.079020"
      ]
     },
     "execution_count": 43,
     "metadata": {},
     "output_type": "execute_result"
    }
   ],
   "source": [
    "means.ix['TECH']"
   ]
  },
  {
   "cell_type": "code",
   "execution_count": 44,
   "metadata": {
    "collapsed": false
   },
   "outputs": [
    {
     "data": {
      "text/plain": [
       "industry   ccy               \n",
       "CONSDUR    EUR  Momentum         0.029595\n",
       "                ShortInterest   -0.020472\n",
       "                Value            0.080495\n",
       "           USD  Momentum         0.029471\n",
       "                ShortInterest   -0.019649\n",
       "                Value            0.079718\n",
       "ENERGY     EUR  Momentum         0.030006\n",
       "                ShortInterest   -0.020151\n",
       "                Value            0.080513\n",
       "           USD  Momentum         0.029611\n",
       "                ShortInterest   -0.019962\n",
       "                Value            0.079705\n",
       "FINANCIAL  EUR  Momentum         0.028627\n",
       "                ShortInterest   -0.018909\n",
       "                Value            0.079624\n",
       "           USD  Momentum         0.029222\n",
       "                ShortInterest   -0.019862\n",
       "                Value            0.080274\n",
       "SERVICES   EUR  Momentum         0.029504\n",
       "                ShortInterest   -0.019712\n",
       "                Value            0.080287\n",
       "           USD  Momentum         0.029121\n",
       "                ShortInterest   -0.021063\n",
       "                Value            0.079815\n",
       "TECH       EUR  Momentum         0.029732\n",
       "                ShortInterest   -0.020271\n",
       "                Value            0.079494\n",
       "           USD  Momentum         0.031217\n",
       "                ShortInterest   -0.019837\n",
       "                Value            0.079020\n",
       "UTILITIES  EUR  Momentum         0.028841\n",
       "                ShortInterest   -0.020151\n",
       "                Value            0.079973\n",
       "           USD  Momentum         0.031032\n",
       "                ShortInterest   -0.020653\n",
       "                Value            0.080243\n",
       "dtype: float64"
      ]
     },
     "execution_count": 44,
     "metadata": {},
     "output_type": "execute_result"
    }
   ],
   "source": [
    "means.stack()"
   ]
  },
  {
   "cell_type": "code",
   "execution_count": 45,
   "metadata": {
    "collapsed": false
   },
   "outputs": [
    {
     "data": {
      "text/plain": [
       "industry            CONSDUR    ENERGY  FINANCIAL  SERVICES      TECH  \\\n",
       "ccy                                                                    \n",
       "EUR Momentum       0.029595  0.030006   0.028627  0.029504  0.029732   \n",
       "    ShortInterest -0.020472 -0.020151  -0.018909 -0.019712 -0.020271   \n",
       "    Value          0.080495  0.080513   0.079624  0.080287  0.079494   \n",
       "USD Momentum       0.029471  0.029611   0.029222  0.029121  0.031217   \n",
       "    ShortInterest -0.019649 -0.019962  -0.019862 -0.021063 -0.019837   \n",
       "    Value          0.079718  0.079705   0.080274  0.079815  0.079020   \n",
       "\n",
       "industry           UTILITIES  \n",
       "ccy                           \n",
       "EUR Momentum        0.028841  \n",
       "    ShortInterest  -0.020151  \n",
       "    Value           0.079973  \n",
       "USD Momentum        0.031032  \n",
       "    ShortInterest  -0.020653  \n",
       "    Value           0.080243  "
      ]
     },
     "execution_count": 45,
     "metadata": {},
     "output_type": "execute_result"
    }
   ],
   "source": [
    "means.stack().unstack('industry')"
   ]
  },
  {
   "cell_type": "markdown",
   "metadata": {},
   "source": [
    "Merging and joining\n",
    "---"
   ]
  },
  {
   "cell_type": "code",
   "execution_count": 46,
   "metadata": {
    "collapsed": false
   },
   "outputs": [
    {
     "name": "stderr",
     "output_type": "stream",
     "text": [
      "/opt/local/Library/Frameworks/Python.framework/Versions/2.7/lib/python2.7/site-packages/pandas/io/parsers.py:644: ParserWarning: Falling back to the 'python' engine because the 'c' engine does not support regex separators; you can avoid this warning by specifying engine='python'.\n",
      "  ParserWarning)\n"
     ]
    },
    {
     "ename": "IOError",
     "evalue": "[Errno 2] No such file or directory: '/Users/wesm/Dropbox/book/svn/book_scripts/movielens/ml-1m/users.dat'",
     "output_type": "error",
     "traceback": [
      "\u001b[0;31m---------------------------------------------------------------------------\u001b[0m",
      "\u001b[0;31mIOError\u001b[0m                                   Traceback (most recent call last)",
      "\u001b[0;32m<ipython-input-46-1ddf4ec9e49d>\u001b[0m in \u001b[0;36m<module>\u001b[0;34m()\u001b[0m\n\u001b[1;32m      3\u001b[0m \u001b[0;34m\u001b[0m\u001b[0m\n\u001b[1;32m      4\u001b[0m \u001b[0munames\u001b[0m \u001b[0;34m=\u001b[0m \u001b[0;34m[\u001b[0m\u001b[0;34m'user_id'\u001b[0m\u001b[0;34m,\u001b[0m \u001b[0;34m'gender'\u001b[0m\u001b[0;34m,\u001b[0m \u001b[0;34m'age'\u001b[0m\u001b[0;34m,\u001b[0m \u001b[0;34m'occupation'\u001b[0m\u001b[0;34m,\u001b[0m \u001b[0;34m'zip'\u001b[0m\u001b[0;34m]\u001b[0m\u001b[0;34m\u001b[0m\u001b[0m\n\u001b[0;32m----> 5\u001b[0;31m \u001b[0musers\u001b[0m \u001b[0;34m=\u001b[0m \u001b[0mpd\u001b[0m\u001b[0;34m.\u001b[0m\u001b[0mread_table\u001b[0m\u001b[0;34m(\u001b[0m\u001b[0mget_path\u001b[0m\u001b[0;34m(\u001b[0m\u001b[0;34m'users'\u001b[0m\u001b[0;34m)\u001b[0m\u001b[0;34m,\u001b[0m \u001b[0msep\u001b[0m\u001b[0;34m=\u001b[0m\u001b[0;34m'::'\u001b[0m\u001b[0;34m,\u001b[0m \u001b[0mheader\u001b[0m\u001b[0;34m=\u001b[0m\u001b[0mNone\u001b[0m\u001b[0;34m,\u001b[0m \u001b[0mnames\u001b[0m\u001b[0;34m=\u001b[0m\u001b[0munames\u001b[0m\u001b[0;34m)\u001b[0m\u001b[0;34m\u001b[0m\u001b[0m\n\u001b[0m\u001b[1;32m      6\u001b[0m \u001b[0;34m\u001b[0m\u001b[0m\n\u001b[1;32m      7\u001b[0m \u001b[0mrnames\u001b[0m \u001b[0;34m=\u001b[0m \u001b[0;34m[\u001b[0m\u001b[0;34m'user_id'\u001b[0m\u001b[0;34m,\u001b[0m \u001b[0;34m'movie_id'\u001b[0m\u001b[0;34m,\u001b[0m \u001b[0;34m'rating'\u001b[0m\u001b[0;34m,\u001b[0m \u001b[0;34m'timestamp'\u001b[0m\u001b[0;34m]\u001b[0m\u001b[0;34m\u001b[0m\u001b[0m\n",
      "\u001b[0;32m/opt/local/Library/Frameworks/Python.framework/Versions/2.7/lib/python2.7/site-packages/pandas/io/parsers.pyc\u001b[0m in \u001b[0;36mparser_f\u001b[0;34m(filepath_or_buffer, sep, dialect, compression, doublequote, escapechar, quotechar, quoting, skipinitialspace, lineterminator, header, index_col, names, prefix, skiprows, skipfooter, skip_footer, na_values, na_fvalues, true_values, false_values, delimiter, converters, dtype, usecols, engine, delim_whitespace, as_recarray, na_filter, compact_ints, use_unsigned, low_memory, buffer_lines, warn_bad_lines, error_bad_lines, keep_default_na, thousands, comment, decimal, parse_dates, keep_date_col, dayfirst, date_parser, memory_map, float_precision, nrows, iterator, chunksize, verbose, encoding, squeeze, mangle_dupe_cols, tupleize_cols, infer_datetime_format, skip_blank_lines)\u001b[0m\n\u001b[1;32m    468\u001b[0m                     skip_blank_lines=skip_blank_lines)\n\u001b[1;32m    469\u001b[0m \u001b[0;34m\u001b[0m\u001b[0m\n\u001b[0;32m--> 470\u001b[0;31m         \u001b[0;32mreturn\u001b[0m \u001b[0m_read\u001b[0m\u001b[0;34m(\u001b[0m\u001b[0mfilepath_or_buffer\u001b[0m\u001b[0;34m,\u001b[0m \u001b[0mkwds\u001b[0m\u001b[0;34m)\u001b[0m\u001b[0;34m\u001b[0m\u001b[0m\n\u001b[0m\u001b[1;32m    471\u001b[0m \u001b[0;34m\u001b[0m\u001b[0m\n\u001b[1;32m    472\u001b[0m     \u001b[0mparser_f\u001b[0m\u001b[0;34m.\u001b[0m\u001b[0m__name__\u001b[0m \u001b[0;34m=\u001b[0m \u001b[0mname\u001b[0m\u001b[0;34m\u001b[0m\u001b[0m\n",
      "\u001b[0;32m/opt/local/Library/Frameworks/Python.framework/Versions/2.7/lib/python2.7/site-packages/pandas/io/parsers.pyc\u001b[0m in \u001b[0;36m_read\u001b[0;34m(filepath_or_buffer, kwds)\u001b[0m\n\u001b[1;32m    244\u001b[0m \u001b[0;34m\u001b[0m\u001b[0m\n\u001b[1;32m    245\u001b[0m     \u001b[0;31m# Create the parser.\u001b[0m\u001b[0;34m\u001b[0m\u001b[0;34m\u001b[0m\u001b[0m\n\u001b[0;32m--> 246\u001b[0;31m     \u001b[0mparser\u001b[0m \u001b[0;34m=\u001b[0m \u001b[0mTextFileReader\u001b[0m\u001b[0;34m(\u001b[0m\u001b[0mfilepath_or_buffer\u001b[0m\u001b[0;34m,\u001b[0m \u001b[0;34m**\u001b[0m\u001b[0mkwds\u001b[0m\u001b[0;34m)\u001b[0m\u001b[0;34m\u001b[0m\u001b[0m\n\u001b[0m\u001b[1;32m    247\u001b[0m \u001b[0;34m\u001b[0m\u001b[0m\n\u001b[1;32m    248\u001b[0m     \u001b[0;32mif\u001b[0m \u001b[0;34m(\u001b[0m\u001b[0mnrows\u001b[0m \u001b[0;32mis\u001b[0m \u001b[0;32mnot\u001b[0m \u001b[0mNone\u001b[0m\u001b[0;34m)\u001b[0m \u001b[0;32mand\u001b[0m \u001b[0;34m(\u001b[0m\u001b[0mchunksize\u001b[0m \u001b[0;32mis\u001b[0m \u001b[0;32mnot\u001b[0m \u001b[0mNone\u001b[0m\u001b[0;34m)\u001b[0m\u001b[0;34m:\u001b[0m\u001b[0;34m\u001b[0m\u001b[0m\n",
      "\u001b[0;32m/opt/local/Library/Frameworks/Python.framework/Versions/2.7/lib/python2.7/site-packages/pandas/io/parsers.pyc\u001b[0m in \u001b[0;36m__init__\u001b[0;34m(self, f, engine, **kwds)\u001b[0m\n\u001b[1;32m    560\u001b[0m             \u001b[0mself\u001b[0m\u001b[0;34m.\u001b[0m\u001b[0moptions\u001b[0m\u001b[0;34m[\u001b[0m\u001b[0;34m'has_index_names'\u001b[0m\u001b[0;34m]\u001b[0m \u001b[0;34m=\u001b[0m \u001b[0mkwds\u001b[0m\u001b[0;34m[\u001b[0m\u001b[0;34m'has_index_names'\u001b[0m\u001b[0;34m]\u001b[0m\u001b[0;34m\u001b[0m\u001b[0m\n\u001b[1;32m    561\u001b[0m \u001b[0;34m\u001b[0m\u001b[0m\n\u001b[0;32m--> 562\u001b[0;31m         \u001b[0mself\u001b[0m\u001b[0;34m.\u001b[0m\u001b[0m_make_engine\u001b[0m\u001b[0;34m(\u001b[0m\u001b[0mself\u001b[0m\u001b[0;34m.\u001b[0m\u001b[0mengine\u001b[0m\u001b[0;34m)\u001b[0m\u001b[0;34m\u001b[0m\u001b[0m\n\u001b[0m\u001b[1;32m    563\u001b[0m \u001b[0;34m\u001b[0m\u001b[0m\n\u001b[1;32m    564\u001b[0m     \u001b[0;32mdef\u001b[0m \u001b[0m_get_options_with_defaults\u001b[0m\u001b[0;34m(\u001b[0m\u001b[0mself\u001b[0m\u001b[0;34m,\u001b[0m \u001b[0mengine\u001b[0m\u001b[0;34m)\u001b[0m\u001b[0;34m:\u001b[0m\u001b[0;34m\u001b[0m\u001b[0m\n",
      "\u001b[0;32m/opt/local/Library/Frameworks/Python.framework/Versions/2.7/lib/python2.7/site-packages/pandas/io/parsers.pyc\u001b[0m in \u001b[0;36m_make_engine\u001b[0;34m(self, engine)\u001b[0m\n\u001b[1;32m    703\u001b[0m             \u001b[0;32melif\u001b[0m \u001b[0mengine\u001b[0m \u001b[0;34m==\u001b[0m \u001b[0;34m'python-fwf'\u001b[0m\u001b[0;34m:\u001b[0m\u001b[0;34m\u001b[0m\u001b[0m\n\u001b[1;32m    704\u001b[0m                 \u001b[0mklass\u001b[0m \u001b[0;34m=\u001b[0m \u001b[0mFixedWidthFieldParser\u001b[0m\u001b[0;34m\u001b[0m\u001b[0m\n\u001b[0;32m--> 705\u001b[0;31m             \u001b[0mself\u001b[0m\u001b[0;34m.\u001b[0m\u001b[0m_engine\u001b[0m \u001b[0;34m=\u001b[0m \u001b[0mklass\u001b[0m\u001b[0;34m(\u001b[0m\u001b[0mself\u001b[0m\u001b[0;34m.\u001b[0m\u001b[0mf\u001b[0m\u001b[0;34m,\u001b[0m \u001b[0;34m**\u001b[0m\u001b[0mself\u001b[0m\u001b[0;34m.\u001b[0m\u001b[0moptions\u001b[0m\u001b[0;34m)\u001b[0m\u001b[0;34m\u001b[0m\u001b[0m\n\u001b[0m\u001b[1;32m    706\u001b[0m \u001b[0;34m\u001b[0m\u001b[0m\n\u001b[1;32m    707\u001b[0m     \u001b[0;32mdef\u001b[0m \u001b[0m_failover_to_python\u001b[0m\u001b[0;34m(\u001b[0m\u001b[0mself\u001b[0m\u001b[0;34m)\u001b[0m\u001b[0;34m:\u001b[0m\u001b[0;34m\u001b[0m\u001b[0m\n",
      "\u001b[0;32m/opt/local/Library/Frameworks/Python.framework/Versions/2.7/lib/python2.7/site-packages/pandas/io/parsers.pyc\u001b[0m in \u001b[0;36m__init__\u001b[0;34m(self, f, **kwds)\u001b[0m\n\u001b[1;32m   1389\u001b[0m         \u001b[0;32mif\u001b[0m \u001b[0misinstance\u001b[0m\u001b[0;34m(\u001b[0m\u001b[0mf\u001b[0m\u001b[0;34m,\u001b[0m \u001b[0mcompat\u001b[0m\u001b[0;34m.\u001b[0m\u001b[0mstring_types\u001b[0m\u001b[0;34m)\u001b[0m\u001b[0;34m:\u001b[0m\u001b[0;34m\u001b[0m\u001b[0m\n\u001b[1;32m   1390\u001b[0m             f = com._get_handle(f, 'r', encoding=self.encoding,\n\u001b[0;32m-> 1391\u001b[0;31m                                 compression=self.compression)\n\u001b[0m\u001b[1;32m   1392\u001b[0m         \u001b[0;32melif\u001b[0m \u001b[0mself\u001b[0m\u001b[0;34m.\u001b[0m\u001b[0mcompression\u001b[0m\u001b[0;34m:\u001b[0m\u001b[0;34m\u001b[0m\u001b[0m\n\u001b[1;32m   1393\u001b[0m             \u001b[0mf\u001b[0m \u001b[0;34m=\u001b[0m \u001b[0m_wrap_compressed\u001b[0m\u001b[0;34m(\u001b[0m\u001b[0mf\u001b[0m\u001b[0;34m,\u001b[0m \u001b[0mself\u001b[0m\u001b[0;34m.\u001b[0m\u001b[0mcompression\u001b[0m\u001b[0;34m,\u001b[0m \u001b[0mself\u001b[0m\u001b[0;34m.\u001b[0m\u001b[0mencoding\u001b[0m\u001b[0;34m)\u001b[0m\u001b[0;34m\u001b[0m\u001b[0m\n",
      "\u001b[0;32m/opt/local/Library/Frameworks/Python.framework/Versions/2.7/lib/python2.7/site-packages/pandas/core/common.pyc\u001b[0m in \u001b[0;36m_get_handle\u001b[0;34m(path, mode, encoding, compression)\u001b[0m\n\u001b[1;32m   2779\u001b[0m                 \u001b[0mf\u001b[0m \u001b[0;34m=\u001b[0m \u001b[0mopen\u001b[0m\u001b[0;34m(\u001b[0m\u001b[0mpath\u001b[0m\u001b[0;34m,\u001b[0m \u001b[0mmode\u001b[0m\u001b[0;34m,\u001b[0m \u001b[0merrors\u001b[0m\u001b[0;34m=\u001b[0m\u001b[0;34m'replace'\u001b[0m\u001b[0;34m)\u001b[0m\u001b[0;34m\u001b[0m\u001b[0m\n\u001b[1;32m   2780\u001b[0m         \u001b[0;32melse\u001b[0m\u001b[0;34m:\u001b[0m\u001b[0;34m\u001b[0m\u001b[0m\n\u001b[0;32m-> 2781\u001b[0;31m             \u001b[0mf\u001b[0m \u001b[0;34m=\u001b[0m \u001b[0mopen\u001b[0m\u001b[0;34m(\u001b[0m\u001b[0mpath\u001b[0m\u001b[0;34m,\u001b[0m \u001b[0mmode\u001b[0m\u001b[0;34m)\u001b[0m\u001b[0;34m\u001b[0m\u001b[0m\n\u001b[0m\u001b[1;32m   2782\u001b[0m \u001b[0;34m\u001b[0m\u001b[0m\n\u001b[1;32m   2783\u001b[0m     \u001b[0;32mreturn\u001b[0m \u001b[0mf\u001b[0m\u001b[0;34m\u001b[0m\u001b[0m\n",
      "\u001b[0;31mIOError\u001b[0m: [Errno 2] No such file or directory: '/Users/wesm/Dropbox/book/svn/book_scripts/movielens/ml-1m/users.dat'"
     ]
    }
   ],
   "source": [
    "base = '/Users/wesm/Dropbox/book/svn/book_scripts/movielens/ml-1m'\n",
    "get_path = lambda x: '%s/%s.dat' % (base, x)\n",
    "\n",
    "unames = ['user_id', 'gender', 'age', 'occupation', 'zip']\n",
    "users = pd.read_table(get_path('users'), sep='::', header=None, names=unames)\n",
    "\n",
    "rnames = ['user_id', 'movie_id', 'rating', 'timestamp']\n",
    "ratings = pd.read_table(get_path('ratings'), sep='::', header=None, names=rnames)\n",
    "mnames = ['movie_id', 'title', 'genres']\n",
    "movies = pd.read_table(get_path('movies'), sep='::', header=None, names=mnames)"
   ]
  },
  {
   "cell_type": "code",
   "execution_count": null,
   "metadata": {
    "collapsed": false
   },
   "outputs": [],
   "source": [
    "movies.head()"
   ]
  },
  {
   "cell_type": "code",
   "execution_count": null,
   "metadata": {
    "collapsed": false
   },
   "outputs": [],
   "source": [
    "ratings.head()"
   ]
  },
  {
   "cell_type": "code",
   "execution_count": null,
   "metadata": {
    "collapsed": false
   },
   "outputs": [],
   "source": [
    "users.head()"
   ]
  },
  {
   "cell_type": "code",
   "execution_count": null,
   "metadata": {
    "collapsed": false
   },
   "outputs": [],
   "source": [
    "data = pd.merge(pd.merge(ratings, users), movies)\n",
    "data"
   ]
  },
  {
   "cell_type": "code",
   "execution_count": null,
   "metadata": {
    "collapsed": false
   },
   "outputs": [],
   "source": [
    "rating_counts = data.groupby('title').size()\n",
    "freq_titles = rating_counts.index[rating_counts > 1000]\n",
    "freq_titles"
   ]
  },
  {
   "cell_type": "code",
   "execution_count": null,
   "metadata": {
    "collapsed": false
   },
   "outputs": [],
   "source": [
    "highest_rated = data.groupby('title').rating.mean()[freq_titles].order()[-20:]\n",
    "highest_rated"
   ]
  },
  {
   "cell_type": "code",
   "execution_count": null,
   "metadata": {
    "collapsed": false
   },
   "outputs": [],
   "source": [
    "filtered = data[data.title.isin(highest_rated.index)]\n",
    "filtered.title = filtered.title.str[:25]\n",
    "filtered.groupby(['title', 'gender']).rating.count().unstack()"
   ]
  },
  {
   "cell_type": "markdown",
   "metadata": {},
   "source": [
    "Pivot tables\n",
    "---"
   ]
  },
  {
   "cell_type": "code",
   "execution_count": null,
   "metadata": {
    "collapsed": false
   },
   "outputs": [],
   "source": [
    "mean_ratings = data.pivot_table('rating', rows='title',\n",
    "                                cols='gender', aggfunc='mean')\n",
    "mean_ratings.tail(20)"
   ]
  },
  {
   "cell_type": "markdown",
   "metadata": {},
   "source": [
    "Data summary, statistics\n",
    "---\n",
    "summary, value_counts, etc."
   ]
  },
  {
   "cell_type": "code",
   "execution_count": null,
   "metadata": {
    "collapsed": false
   },
   "outputs": [],
   "source": [
    "data.title.value_counts()"
   ]
  },
  {
   "cell_type": "code",
   "execution_count": null,
   "metadata": {
    "collapsed": false
   },
   "outputs": [],
   "source": [
    "data.rating.describe()"
   ]
  },
  {
   "cell_type": "code",
   "execution_count": null,
   "metadata": {
    "collapsed": false
   },
   "outputs": [],
   "source": [
    "by_gender = data.groupby('gender').rating.describe()\n",
    "by_gender"
   ]
  },
  {
   "cell_type": "code",
   "execution_count": null,
   "metadata": {
    "collapsed": false
   },
   "outputs": [],
   "source": [
    "by_gender.unstack(0)"
   ]
  },
  {
   "cell_type": "code",
   "execution_count": null,
   "metadata": {
    "collapsed": false
   },
   "outputs": [],
   "source": []
  }
 ],
 "metadata": {
  "kernelspec": {
   "display_name": "Python 2",
   "language": "python",
   "name": "python2"
  },
  "language_info": {
   "codemirror_mode": {
    "name": "ipython",
    "version": 2
   },
   "file_extension": ".py",
   "mimetype": "text/x-python",
   "name": "python",
   "nbconvert_exporter": "python",
   "pygments_lexer": "ipython2",
   "version": "2.7.9"
  }
 },
 "nbformat": 4,
 "nbformat_minor": 0
}
